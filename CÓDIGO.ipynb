{
  "nbformat": 4,
  "nbformat_minor": 0,
  "metadata": {
    "colab": {
      "provenance": []
    },
    "kernelspec": {
      "name": "python3",
      "display_name": "Python 3"
    },
    "language_info": {
      "name": "python"
    }
  },
  "cells": [
    {
      "cell_type": "markdown",
      "source": [
        "# Importando as bibliotecas necessárias"
      ],
      "metadata": {
        "id": "WeAY9GvL-cbv"
      }
    },
    {
      "cell_type": "code",
      "execution_count": null,
      "metadata": {
        "id": "R1iJrYByxHUx"
      },
      "outputs": [],
      "source": [
        "import numpy as np\n",
        "import pandas as pd\n",
        "import os\n",
        "import re\n",
        "import matplotlib.pyplot as plt\n",
        "import seaborn as sns\n",
        "from google.colab import drive\n",
        "from sklearn.model_selection import train_test_split\n",
        "from sklearn.preprocessing import StandardScaler\n",
        "from sklearn.metrics import roc_curve, roc_auc_score\n",
        "from sklearn.metrics import accuracy_score, classification_report, confusion_matrix, ConfusionMatrixDisplay\n",
        "from sklearn.naive_bayes import GaussianNB\n",
        "from sklearn.naive_bayes import BernoulliNB\n",
        "from sklearn.naive_bayes import CategoricalNB"
      ]
    },
    {
      "cell_type": "code",
      "source": [
        "sns.set_theme()"
      ],
      "metadata": {
        "id": "XX0R25ZzxLZ3"
      },
      "execution_count": null,
      "outputs": []
    },
    {
      "cell_type": "code",
      "source": [
        "RANDOM_SEED = 73\n",
        "np.random.seed(RANDOM_SEED)"
      ],
      "metadata": {
        "id": "OB2wsG9txRXc"
      },
      "execution_count": null,
      "outputs": []
    },
    {
      "cell_type": "markdown",
      "metadata": {
        "id": "Pq_bXXrta-Eo"
      },
      "source": [
        "# Carregando os dados"
      ]
    },
    {
      "cell_type": "code",
      "execution_count": null,
      "metadata": {
        "colab": {
          "base_uri": "https://localhost:8080/"
        },
        "id": "zWwpfkp8uM4E",
        "outputId": "cc7dff2a-8e08-4c11-d07b-d416662b83c4"
      },
      "outputs": [
        {
          "output_type": "stream",
          "name": "stdout",
          "text": [
            "Drive already mounted at /content/drive; to attempt to forcibly remount, call drive.mount(\"/content/drive\", force_remount=True).\n"
          ]
        }
      ],
      "source": [
        "drive.mount('/content/drive')"
      ]
    },
    {
      "cell_type": "code",
      "execution_count": null,
      "metadata": {
        "id": "6zYbZjA5afwD"
      },
      "outputs": [],
      "source": [
        "dataset_list = []\n",
        "for file in os.listdir('/content/drive/MyDrive/MachineLearningCVE'):\n",
        "  dataset_aux = pd.read_csv(f'/content/drive/MyDrive/MachineLearningCVE/{file}')\n",
        "  dataset_list.append(dataset_aux)\n",
        "dataset = pd.concat(dataset_list, ignore_index=True)"
      ]
    },
    {
      "cell_type": "code",
      "execution_count": null,
      "metadata": {
        "id": "TjM3IcrnalWU",
        "colab": {
          "base_uri": "https://localhost:8080/"
        },
        "outputId": "5003a38f-57f5-49d8-9245-5fbcf803a88e"
      },
      "outputs": [
        {
          "output_type": "stream",
          "name": "stdout",
          "text": [
            "<class 'pandas.core.frame.DataFrame'>\n",
            "RangeIndex: 2830743 entries, 0 to 2830742\n",
            "Data columns (total 79 columns):\n",
            " #   Column                        Dtype  \n",
            "---  ------                        -----  \n",
            " 0    Destination Port             int64  \n",
            " 1    Flow Duration                int64  \n",
            " 2    Total Fwd Packets            int64  \n",
            " 3    Total Backward Packets       int64  \n",
            " 4   Total Length of Fwd Packets   int64  \n",
            " 5    Total Length of Bwd Packets  int64  \n",
            " 6    Fwd Packet Length Max        int64  \n",
            " 7    Fwd Packet Length Min        int64  \n",
            " 8    Fwd Packet Length Mean       float64\n",
            " 9    Fwd Packet Length Std        float64\n",
            " 10  Bwd Packet Length Max         int64  \n",
            " 11   Bwd Packet Length Min        int64  \n",
            " 12   Bwd Packet Length Mean       float64\n",
            " 13   Bwd Packet Length Std        float64\n",
            " 14  Flow Bytes/s                  float64\n",
            " 15   Flow Packets/s               float64\n",
            " 16   Flow IAT Mean                float64\n",
            " 17   Flow IAT Std                 float64\n",
            " 18   Flow IAT Max                 int64  \n",
            " 19   Flow IAT Min                 int64  \n",
            " 20  Fwd IAT Total                 int64  \n",
            " 21   Fwd IAT Mean                 float64\n",
            " 22   Fwd IAT Std                  float64\n",
            " 23   Fwd IAT Max                  int64  \n",
            " 24   Fwd IAT Min                  int64  \n",
            " 25  Bwd IAT Total                 int64  \n",
            " 26   Bwd IAT Mean                 float64\n",
            " 27   Bwd IAT Std                  float64\n",
            " 28   Bwd IAT Max                  int64  \n",
            " 29   Bwd IAT Min                  int64  \n",
            " 30  Fwd PSH Flags                 int64  \n",
            " 31   Bwd PSH Flags                int64  \n",
            " 32   Fwd URG Flags                int64  \n",
            " 33   Bwd URG Flags                int64  \n",
            " 34   Fwd Header Length            int64  \n",
            " 35   Bwd Header Length            int64  \n",
            " 36  Fwd Packets/s                 float64\n",
            " 37   Bwd Packets/s                float64\n",
            " 38   Min Packet Length            int64  \n",
            " 39   Max Packet Length            int64  \n",
            " 40   Packet Length Mean           float64\n",
            " 41   Packet Length Std            float64\n",
            " 42   Packet Length Variance       float64\n",
            " 43  FIN Flag Count                int64  \n",
            " 44   SYN Flag Count               int64  \n",
            " 45   RST Flag Count               int64  \n",
            " 46   PSH Flag Count               int64  \n",
            " 47   ACK Flag Count               int64  \n",
            " 48   URG Flag Count               int64  \n",
            " 49   CWE Flag Count               int64  \n",
            " 50   ECE Flag Count               int64  \n",
            " 51   Down/Up Ratio                int64  \n",
            " 52   Average Packet Size          float64\n",
            " 53   Avg Fwd Segment Size         float64\n",
            " 54   Avg Bwd Segment Size         float64\n",
            " 55   Fwd Header Length.1          int64  \n",
            " 56  Fwd Avg Bytes/Bulk            int64  \n",
            " 57   Fwd Avg Packets/Bulk         int64  \n",
            " 58   Fwd Avg Bulk Rate            int64  \n",
            " 59   Bwd Avg Bytes/Bulk           int64  \n",
            " 60   Bwd Avg Packets/Bulk         int64  \n",
            " 61  Bwd Avg Bulk Rate             int64  \n",
            " 62  Subflow Fwd Packets           int64  \n",
            " 63   Subflow Fwd Bytes            int64  \n",
            " 64   Subflow Bwd Packets          int64  \n",
            " 65   Subflow Bwd Bytes            int64  \n",
            " 66  Init_Win_bytes_forward        int64  \n",
            " 67   Init_Win_bytes_backward      int64  \n",
            " 68   act_data_pkt_fwd             int64  \n",
            " 69   min_seg_size_forward         int64  \n",
            " 70  Active Mean                   float64\n",
            " 71   Active Std                   float64\n",
            " 72   Active Max                   int64  \n",
            " 73   Active Min                   int64  \n",
            " 74  Idle Mean                     float64\n",
            " 75   Idle Std                     float64\n",
            " 76   Idle Max                     int64  \n",
            " 77   Idle Min                     int64  \n",
            " 78   Label                        object \n",
            "dtypes: float64(24), int64(54), object(1)\n",
            "memory usage: 1.7+ GB\n"
          ]
        }
      ],
      "source": [
        "dataset.info()"
      ]
    },
    {
      "cell_type": "code",
      "execution_count": null,
      "metadata": {
        "id": "FAY2pdWVxkBu"
      },
      "outputs": [],
      "source": [
        "# Retirando espaços desnecessários nos nomes das colunas\n",
        "def remove_initial_and_ending_spaces(name):\n",
        "    regex = r'^(?:\\s+)?(?P<gp>.+?)(?:\\s+)?$'\n",
        "    mo = re.search(regex, name)\n",
        "    if mo is not None:\n",
        "      return mo['gp']\n",
        "    else:\n",
        "      print(f'Deu erro em: {name}')\n",
        "      return name"
      ]
    },
    {
      "cell_type": "code",
      "execution_count": null,
      "metadata": {
        "id": "l2DxxoSXc1W6"
      },
      "outputs": [],
      "source": [
        "for col in dataset.columns:\n",
        "    dataset = dataset.rename({col:remove_initial_and_ending_spaces(col)}, axis='columns')"
      ]
    },
    {
      "cell_type": "code",
      "execution_count": null,
      "metadata": {
        "id": "6-Y0wbj2KHlC",
        "colab": {
          "base_uri": "https://localhost:8080/"
        },
        "outputId": "ee17423e-e6b4-443c-a26b-8924b8771bca"
      },
      "outputs": [
        {
          "output_type": "stream",
          "name": "stdout",
          "text": [
            "<class 'pandas.core.frame.DataFrame'>\n",
            "RangeIndex: 2830743 entries, 0 to 2830742\n",
            "Data columns (total 79 columns):\n",
            " #   Column                       Dtype  \n",
            "---  ------                       -----  \n",
            " 0   Destination Port             int64  \n",
            " 1   Flow Duration                int64  \n",
            " 2   Total Fwd Packets            int64  \n",
            " 3   Total Backward Packets       int64  \n",
            " 4   Total Length of Fwd Packets  int64  \n",
            " 5   Total Length of Bwd Packets  int64  \n",
            " 6   Fwd Packet Length Max        int64  \n",
            " 7   Fwd Packet Length Min        int64  \n",
            " 8   Fwd Packet Length Mean       float64\n",
            " 9   Fwd Packet Length Std        float64\n",
            " 10  Bwd Packet Length Max        int64  \n",
            " 11  Bwd Packet Length Min        int64  \n",
            " 12  Bwd Packet Length Mean       float64\n",
            " 13  Bwd Packet Length Std        float64\n",
            " 14  Flow Bytes/s                 float64\n",
            " 15  Flow Packets/s               float64\n",
            " 16  Flow IAT Mean                float64\n",
            " 17  Flow IAT Std                 float64\n",
            " 18  Flow IAT Max                 int64  \n",
            " 19  Flow IAT Min                 int64  \n",
            " 20  Fwd IAT Total                int64  \n",
            " 21  Fwd IAT Mean                 float64\n",
            " 22  Fwd IAT Std                  float64\n",
            " 23  Fwd IAT Max                  int64  \n",
            " 24  Fwd IAT Min                  int64  \n",
            " 25  Bwd IAT Total                int64  \n",
            " 26  Bwd IAT Mean                 float64\n",
            " 27  Bwd IAT Std                  float64\n",
            " 28  Bwd IAT Max                  int64  \n",
            " 29  Bwd IAT Min                  int64  \n",
            " 30  Fwd PSH Flags                int64  \n",
            " 31  Bwd PSH Flags                int64  \n",
            " 32  Fwd URG Flags                int64  \n",
            " 33  Bwd URG Flags                int64  \n",
            " 34  Fwd Header Length            int64  \n",
            " 35  Bwd Header Length            int64  \n",
            " 36  Fwd Packets/s                float64\n",
            " 37  Bwd Packets/s                float64\n",
            " 38  Min Packet Length            int64  \n",
            " 39  Max Packet Length            int64  \n",
            " 40  Packet Length Mean           float64\n",
            " 41  Packet Length Std            float64\n",
            " 42  Packet Length Variance       float64\n",
            " 43  FIN Flag Count               int64  \n",
            " 44  SYN Flag Count               int64  \n",
            " 45  RST Flag Count               int64  \n",
            " 46  PSH Flag Count               int64  \n",
            " 47  ACK Flag Count               int64  \n",
            " 48  URG Flag Count               int64  \n",
            " 49  CWE Flag Count               int64  \n",
            " 50  ECE Flag Count               int64  \n",
            " 51  Down/Up Ratio                int64  \n",
            " 52  Average Packet Size          float64\n",
            " 53  Avg Fwd Segment Size         float64\n",
            " 54  Avg Bwd Segment Size         float64\n",
            " 55  Fwd Header Length.1          int64  \n",
            " 56  Fwd Avg Bytes/Bulk           int64  \n",
            " 57  Fwd Avg Packets/Bulk         int64  \n",
            " 58  Fwd Avg Bulk Rate            int64  \n",
            " 59  Bwd Avg Bytes/Bulk           int64  \n",
            " 60  Bwd Avg Packets/Bulk         int64  \n",
            " 61  Bwd Avg Bulk Rate            int64  \n",
            " 62  Subflow Fwd Packets          int64  \n",
            " 63  Subflow Fwd Bytes            int64  \n",
            " 64  Subflow Bwd Packets          int64  \n",
            " 65  Subflow Bwd Bytes            int64  \n",
            " 66  Init_Win_bytes_forward       int64  \n",
            " 67  Init_Win_bytes_backward      int64  \n",
            " 68  act_data_pkt_fwd             int64  \n",
            " 69  min_seg_size_forward         int64  \n",
            " 70  Active Mean                  float64\n",
            " 71  Active Std                   float64\n",
            " 72  Active Max                   int64  \n",
            " 73  Active Min                   int64  \n",
            " 74  Idle Mean                    float64\n",
            " 75  Idle Std                     float64\n",
            " 76  Idle Max                     int64  \n",
            " 77  Idle Min                     int64  \n",
            " 78  Label                        object \n",
            "dtypes: float64(24), int64(54), object(1)\n",
            "memory usage: 1.7+ GB\n"
          ]
        }
      ],
      "source": [
        "dataset.info()"
      ]
    },
    {
      "cell_type": "markdown",
      "metadata": {
        "id": "pawAGo2By0Xz"
      },
      "source": [
        "# Limpando os dados"
      ]
    },
    {
      "cell_type": "code",
      "execution_count": null,
      "metadata": {
        "id": "Sxa5jmZUdRg-",
        "colab": {
          "base_uri": "https://localhost:8080/",
          "height": 496
        },
        "outputId": "ebe4bce7-e61d-4efa-ca49-65dbc6590663"
      },
      "outputs": [
        {
          "output_type": "execute_result",
          "data": {
            "text/plain": [
              "         Destination Port  Flow Duration  Total Fwd Packets  \\\n",
              "91                    443              3                  2   \n",
              "687                    80              4                  2   \n",
              "690                    80              4                  2   \n",
              "693                    80              4                  2   \n",
              "1780                   80            151                  2   \n",
              "...                   ...            ...                ...   \n",
              "2830685               137              4                  2   \n",
              "2830694                53            184                  2   \n",
              "2830696                53            168                  2   \n",
              "2830704                53            176                  2   \n",
              "2830706               123            125                  2   \n",
              "\n",
              "         Total Backward Packets  Total Length of Fwd Packets  \\\n",
              "91                            0                           91   \n",
              "687                           0                           12   \n",
              "690                           0                           12   \n",
              "693                           0                           12   \n",
              "1780                          0                           12   \n",
              "...                         ...                          ...   \n",
              "2830685                       0                          124   \n",
              "2830694                       2                           84   \n",
              "2830696                       2                           72   \n",
              "2830704                       2                          142   \n",
              "2830706                       2                           96   \n",
              "\n",
              "         Total Length of Bwd Packets  Fwd Packet Length Max  \\\n",
              "91                                 0                     85   \n",
              "687                                0                      6   \n",
              "690                                0                      6   \n",
              "693                                0                      6   \n",
              "1780                               0                      6   \n",
              "...                              ...                    ...   \n",
              "2830685                            0                     62   \n",
              "2830694                          310                     42   \n",
              "2830696                          194                     36   \n",
              "2830704                          242                     71   \n",
              "2830706                           96                     48   \n",
              "\n",
              "         Fwd Packet Length Min  Fwd Packet Length Mean  Fwd Packet Length Std  \\\n",
              "91                           6                    45.5              55.861436   \n",
              "687                          6                     6.0               0.000000   \n",
              "690                          6                     6.0               0.000000   \n",
              "693                          6                     6.0               0.000000   \n",
              "1780                         6                     6.0               0.000000   \n",
              "...                        ...                     ...                    ...   \n",
              "2830685                     62                    62.0               0.000000   \n",
              "2830694                     42                    42.0               0.000000   \n",
              "2830696                     36                    36.0               0.000000   \n",
              "2830704                     71                    71.0               0.000000   \n",
              "2830706                     48                    48.0               0.000000   \n",
              "\n",
              "         ...  min_seg_size_forward  Active Mean  Active Std  Active Max  \\\n",
              "91       ...                    20          0.0         0.0           0   \n",
              "687      ...                    20          0.0         0.0           0   \n",
              "690      ...                    20          0.0         0.0           0   \n",
              "693      ...                    20          0.0         0.0           0   \n",
              "1780     ...                    20          0.0         0.0           0   \n",
              "...      ...                   ...          ...         ...         ...   \n",
              "2830685  ...                    32          0.0         0.0           0   \n",
              "2830694  ...                    32          0.0         0.0           0   \n",
              "2830696  ...                    32          0.0         0.0           0   \n",
              "2830704  ...                    20          0.0         0.0           0   \n",
              "2830706  ...                    20          0.0         0.0           0   \n",
              "\n",
              "         Active Min  Idle Mean  Idle Std  Idle Max  Idle Min   Label  \n",
              "91                0        0.0       0.0         0         0  BENIGN  \n",
              "687               0        0.0       0.0         0         0  BENIGN  \n",
              "690               0        0.0       0.0         0         0  BENIGN  \n",
              "693               0        0.0       0.0         0         0  BENIGN  \n",
              "1780              0        0.0       0.0         0         0  BENIGN  \n",
              "...             ...        ...       ...       ...       ...     ...  \n",
              "2830685           0        0.0       0.0         0         0  BENIGN  \n",
              "2830694           0        0.0       0.0         0         0  BENIGN  \n",
              "2830696           0        0.0       0.0         0         0  BENIGN  \n",
              "2830704           0        0.0       0.0         0         0  BENIGN  \n",
              "2830706           0        0.0       0.0         0         0  BENIGN  \n",
              "\n",
              "[308381 rows x 79 columns]"
            ],
            "text/html": [
              "\n",
              "  <div id=\"df-92a173e4-b8f8-4a15-b886-3cb327d5d901\" class=\"colab-df-container\">\n",
              "    <div>\n",
              "<style scoped>\n",
              "    .dataframe tbody tr th:only-of-type {\n",
              "        vertical-align: middle;\n",
              "    }\n",
              "\n",
              "    .dataframe tbody tr th {\n",
              "        vertical-align: top;\n",
              "    }\n",
              "\n",
              "    .dataframe thead th {\n",
              "        text-align: right;\n",
              "    }\n",
              "</style>\n",
              "<table border=\"1\" class=\"dataframe\">\n",
              "  <thead>\n",
              "    <tr style=\"text-align: right;\">\n",
              "      <th></th>\n",
              "      <th>Destination Port</th>\n",
              "      <th>Flow Duration</th>\n",
              "      <th>Total Fwd Packets</th>\n",
              "      <th>Total Backward Packets</th>\n",
              "      <th>Total Length of Fwd Packets</th>\n",
              "      <th>Total Length of Bwd Packets</th>\n",
              "      <th>Fwd Packet Length Max</th>\n",
              "      <th>Fwd Packet Length Min</th>\n",
              "      <th>Fwd Packet Length Mean</th>\n",
              "      <th>Fwd Packet Length Std</th>\n",
              "      <th>...</th>\n",
              "      <th>min_seg_size_forward</th>\n",
              "      <th>Active Mean</th>\n",
              "      <th>Active Std</th>\n",
              "      <th>Active Max</th>\n",
              "      <th>Active Min</th>\n",
              "      <th>Idle Mean</th>\n",
              "      <th>Idle Std</th>\n",
              "      <th>Idle Max</th>\n",
              "      <th>Idle Min</th>\n",
              "      <th>Label</th>\n",
              "    </tr>\n",
              "  </thead>\n",
              "  <tbody>\n",
              "    <tr>\n",
              "      <th>91</th>\n",
              "      <td>443</td>\n",
              "      <td>3</td>\n",
              "      <td>2</td>\n",
              "      <td>0</td>\n",
              "      <td>91</td>\n",
              "      <td>0</td>\n",
              "      <td>85</td>\n",
              "      <td>6</td>\n",
              "      <td>45.5</td>\n",
              "      <td>55.861436</td>\n",
              "      <td>...</td>\n",
              "      <td>20</td>\n",
              "      <td>0.0</td>\n",
              "      <td>0.0</td>\n",
              "      <td>0</td>\n",
              "      <td>0</td>\n",
              "      <td>0.0</td>\n",
              "      <td>0.0</td>\n",
              "      <td>0</td>\n",
              "      <td>0</td>\n",
              "      <td>BENIGN</td>\n",
              "    </tr>\n",
              "    <tr>\n",
              "      <th>687</th>\n",
              "      <td>80</td>\n",
              "      <td>4</td>\n",
              "      <td>2</td>\n",
              "      <td>0</td>\n",
              "      <td>12</td>\n",
              "      <td>0</td>\n",
              "      <td>6</td>\n",
              "      <td>6</td>\n",
              "      <td>6.0</td>\n",
              "      <td>0.000000</td>\n",
              "      <td>...</td>\n",
              "      <td>20</td>\n",
              "      <td>0.0</td>\n",
              "      <td>0.0</td>\n",
              "      <td>0</td>\n",
              "      <td>0</td>\n",
              "      <td>0.0</td>\n",
              "      <td>0.0</td>\n",
              "      <td>0</td>\n",
              "      <td>0</td>\n",
              "      <td>BENIGN</td>\n",
              "    </tr>\n",
              "    <tr>\n",
              "      <th>690</th>\n",
              "      <td>80</td>\n",
              "      <td>4</td>\n",
              "      <td>2</td>\n",
              "      <td>0</td>\n",
              "      <td>12</td>\n",
              "      <td>0</td>\n",
              "      <td>6</td>\n",
              "      <td>6</td>\n",
              "      <td>6.0</td>\n",
              "      <td>0.000000</td>\n",
              "      <td>...</td>\n",
              "      <td>20</td>\n",
              "      <td>0.0</td>\n",
              "      <td>0.0</td>\n",
              "      <td>0</td>\n",
              "      <td>0</td>\n",
              "      <td>0.0</td>\n",
              "      <td>0.0</td>\n",
              "      <td>0</td>\n",
              "      <td>0</td>\n",
              "      <td>BENIGN</td>\n",
              "    </tr>\n",
              "    <tr>\n",
              "      <th>693</th>\n",
              "      <td>80</td>\n",
              "      <td>4</td>\n",
              "      <td>2</td>\n",
              "      <td>0</td>\n",
              "      <td>12</td>\n",
              "      <td>0</td>\n",
              "      <td>6</td>\n",
              "      <td>6</td>\n",
              "      <td>6.0</td>\n",
              "      <td>0.000000</td>\n",
              "      <td>...</td>\n",
              "      <td>20</td>\n",
              "      <td>0.0</td>\n",
              "      <td>0.0</td>\n",
              "      <td>0</td>\n",
              "      <td>0</td>\n",
              "      <td>0.0</td>\n",
              "      <td>0.0</td>\n",
              "      <td>0</td>\n",
              "      <td>0</td>\n",
              "      <td>BENIGN</td>\n",
              "    </tr>\n",
              "    <tr>\n",
              "      <th>1780</th>\n",
              "      <td>80</td>\n",
              "      <td>151</td>\n",
              "      <td>2</td>\n",
              "      <td>0</td>\n",
              "      <td>12</td>\n",
              "      <td>0</td>\n",
              "      <td>6</td>\n",
              "      <td>6</td>\n",
              "      <td>6.0</td>\n",
              "      <td>0.000000</td>\n",
              "      <td>...</td>\n",
              "      <td>20</td>\n",
              "      <td>0.0</td>\n",
              "      <td>0.0</td>\n",
              "      <td>0</td>\n",
              "      <td>0</td>\n",
              "      <td>0.0</td>\n",
              "      <td>0.0</td>\n",
              "      <td>0</td>\n",
              "      <td>0</td>\n",
              "      <td>BENIGN</td>\n",
              "    </tr>\n",
              "    <tr>\n",
              "      <th>...</th>\n",
              "      <td>...</td>\n",
              "      <td>...</td>\n",
              "      <td>...</td>\n",
              "      <td>...</td>\n",
              "      <td>...</td>\n",
              "      <td>...</td>\n",
              "      <td>...</td>\n",
              "      <td>...</td>\n",
              "      <td>...</td>\n",
              "      <td>...</td>\n",
              "      <td>...</td>\n",
              "      <td>...</td>\n",
              "      <td>...</td>\n",
              "      <td>...</td>\n",
              "      <td>...</td>\n",
              "      <td>...</td>\n",
              "      <td>...</td>\n",
              "      <td>...</td>\n",
              "      <td>...</td>\n",
              "      <td>...</td>\n",
              "      <td>...</td>\n",
              "    </tr>\n",
              "    <tr>\n",
              "      <th>2830685</th>\n",
              "      <td>137</td>\n",
              "      <td>4</td>\n",
              "      <td>2</td>\n",
              "      <td>0</td>\n",
              "      <td>124</td>\n",
              "      <td>0</td>\n",
              "      <td>62</td>\n",
              "      <td>62</td>\n",
              "      <td>62.0</td>\n",
              "      <td>0.000000</td>\n",
              "      <td>...</td>\n",
              "      <td>32</td>\n",
              "      <td>0.0</td>\n",
              "      <td>0.0</td>\n",
              "      <td>0</td>\n",
              "      <td>0</td>\n",
              "      <td>0.0</td>\n",
              "      <td>0.0</td>\n",
              "      <td>0</td>\n",
              "      <td>0</td>\n",
              "      <td>BENIGN</td>\n",
              "    </tr>\n",
              "    <tr>\n",
              "      <th>2830694</th>\n",
              "      <td>53</td>\n",
              "      <td>184</td>\n",
              "      <td>2</td>\n",
              "      <td>2</td>\n",
              "      <td>84</td>\n",
              "      <td>310</td>\n",
              "      <td>42</td>\n",
              "      <td>42</td>\n",
              "      <td>42.0</td>\n",
              "      <td>0.000000</td>\n",
              "      <td>...</td>\n",
              "      <td>32</td>\n",
              "      <td>0.0</td>\n",
              "      <td>0.0</td>\n",
              "      <td>0</td>\n",
              "      <td>0</td>\n",
              "      <td>0.0</td>\n",
              "      <td>0.0</td>\n",
              "      <td>0</td>\n",
              "      <td>0</td>\n",
              "      <td>BENIGN</td>\n",
              "    </tr>\n",
              "    <tr>\n",
              "      <th>2830696</th>\n",
              "      <td>53</td>\n",
              "      <td>168</td>\n",
              "      <td>2</td>\n",
              "      <td>2</td>\n",
              "      <td>72</td>\n",
              "      <td>194</td>\n",
              "      <td>36</td>\n",
              "      <td>36</td>\n",
              "      <td>36.0</td>\n",
              "      <td>0.000000</td>\n",
              "      <td>...</td>\n",
              "      <td>32</td>\n",
              "      <td>0.0</td>\n",
              "      <td>0.0</td>\n",
              "      <td>0</td>\n",
              "      <td>0</td>\n",
              "      <td>0.0</td>\n",
              "      <td>0.0</td>\n",
              "      <td>0</td>\n",
              "      <td>0</td>\n",
              "      <td>BENIGN</td>\n",
              "    </tr>\n",
              "    <tr>\n",
              "      <th>2830704</th>\n",
              "      <td>53</td>\n",
              "      <td>176</td>\n",
              "      <td>2</td>\n",
              "      <td>2</td>\n",
              "      <td>142</td>\n",
              "      <td>242</td>\n",
              "      <td>71</td>\n",
              "      <td>71</td>\n",
              "      <td>71.0</td>\n",
              "      <td>0.000000</td>\n",
              "      <td>...</td>\n",
              "      <td>20</td>\n",
              "      <td>0.0</td>\n",
              "      <td>0.0</td>\n",
              "      <td>0</td>\n",
              "      <td>0</td>\n",
              "      <td>0.0</td>\n",
              "      <td>0.0</td>\n",
              "      <td>0</td>\n",
              "      <td>0</td>\n",
              "      <td>BENIGN</td>\n",
              "    </tr>\n",
              "    <tr>\n",
              "      <th>2830706</th>\n",
              "      <td>123</td>\n",
              "      <td>125</td>\n",
              "      <td>2</td>\n",
              "      <td>2</td>\n",
              "      <td>96</td>\n",
              "      <td>96</td>\n",
              "      <td>48</td>\n",
              "      <td>48</td>\n",
              "      <td>48.0</td>\n",
              "      <td>0.000000</td>\n",
              "      <td>...</td>\n",
              "      <td>20</td>\n",
              "      <td>0.0</td>\n",
              "      <td>0.0</td>\n",
              "      <td>0</td>\n",
              "      <td>0</td>\n",
              "      <td>0.0</td>\n",
              "      <td>0.0</td>\n",
              "      <td>0</td>\n",
              "      <td>0</td>\n",
              "      <td>BENIGN</td>\n",
              "    </tr>\n",
              "  </tbody>\n",
              "</table>\n",
              "<p>308381 rows × 79 columns</p>\n",
              "</div>\n",
              "    <div class=\"colab-df-buttons\">\n",
              "\n",
              "  <div class=\"colab-df-container\">\n",
              "    <button class=\"colab-df-convert\" onclick=\"convertToInteractive('df-92a173e4-b8f8-4a15-b886-3cb327d5d901')\"\n",
              "            title=\"Convert this dataframe to an interactive table.\"\n",
              "            style=\"display:none;\">\n",
              "\n",
              "  <svg xmlns=\"http://www.w3.org/2000/svg\" height=\"24px\" viewBox=\"0 -960 960 960\">\n",
              "    <path d=\"M120-120v-720h720v720H120Zm60-500h600v-160H180v160Zm220 220h160v-160H400v160Zm0 220h160v-160H400v160ZM180-400h160v-160H180v160Zm440 0h160v-160H620v160ZM180-180h160v-160H180v160Zm440 0h160v-160H620v160Z\"/>\n",
              "  </svg>\n",
              "    </button>\n",
              "\n",
              "  <style>\n",
              "    .colab-df-container {\n",
              "      display:flex;\n",
              "      gap: 12px;\n",
              "    }\n",
              "\n",
              "    .colab-df-convert {\n",
              "      background-color: #E8F0FE;\n",
              "      border: none;\n",
              "      border-radius: 50%;\n",
              "      cursor: pointer;\n",
              "      display: none;\n",
              "      fill: #1967D2;\n",
              "      height: 32px;\n",
              "      padding: 0 0 0 0;\n",
              "      width: 32px;\n",
              "    }\n",
              "\n",
              "    .colab-df-convert:hover {\n",
              "      background-color: #E2EBFA;\n",
              "      box-shadow: 0px 1px 2px rgba(60, 64, 67, 0.3), 0px 1px 3px 1px rgba(60, 64, 67, 0.15);\n",
              "      fill: #174EA6;\n",
              "    }\n",
              "\n",
              "    .colab-df-buttons div {\n",
              "      margin-bottom: 4px;\n",
              "    }\n",
              "\n",
              "    [theme=dark] .colab-df-convert {\n",
              "      background-color: #3B4455;\n",
              "      fill: #D2E3FC;\n",
              "    }\n",
              "\n",
              "    [theme=dark] .colab-df-convert:hover {\n",
              "      background-color: #434B5C;\n",
              "      box-shadow: 0px 1px 3px 1px rgba(0, 0, 0, 0.15);\n",
              "      filter: drop-shadow(0px 1px 2px rgba(0, 0, 0, 0.3));\n",
              "      fill: #FFFFFF;\n",
              "    }\n",
              "  </style>\n",
              "\n",
              "    <script>\n",
              "      const buttonEl =\n",
              "        document.querySelector('#df-92a173e4-b8f8-4a15-b886-3cb327d5d901 button.colab-df-convert');\n",
              "      buttonEl.style.display =\n",
              "        google.colab.kernel.accessAllowed ? 'block' : 'none';\n",
              "\n",
              "      async function convertToInteractive(key) {\n",
              "        const element = document.querySelector('#df-92a173e4-b8f8-4a15-b886-3cb327d5d901');\n",
              "        const dataTable =\n",
              "          await google.colab.kernel.invokeFunction('convertToInteractive',\n",
              "                                                    [key], {});\n",
              "        if (!dataTable) return;\n",
              "\n",
              "        const docLinkHtml = 'Like what you see? Visit the ' +\n",
              "          '<a target=\"_blank\" href=https://colab.research.google.com/notebooks/data_table.ipynb>data table notebook</a>'\n",
              "          + ' to learn more about interactive tables.';\n",
              "        element.innerHTML = '';\n",
              "        dataTable['output_type'] = 'display_data';\n",
              "        await google.colab.output.renderOutput(dataTable, element);\n",
              "        const docLink = document.createElement('div');\n",
              "        docLink.innerHTML = docLinkHtml;\n",
              "        element.appendChild(docLink);\n",
              "      }\n",
              "    </script>\n",
              "  </div>\n",
              "\n",
              "\n",
              "<div id=\"df-fcb67236-48a8-4a8d-8e65-d48895673bfa\">\n",
              "  <button class=\"colab-df-quickchart\" onclick=\"quickchart('df-fcb67236-48a8-4a8d-8e65-d48895673bfa')\"\n",
              "            title=\"Suggest charts\"\n",
              "            style=\"display:none;\">\n",
              "\n",
              "<svg xmlns=\"http://www.w3.org/2000/svg\" height=\"24px\"viewBox=\"0 0 24 24\"\n",
              "     width=\"24px\">\n",
              "    <g>\n",
              "        <path d=\"M19 3H5c-1.1 0-2 .9-2 2v14c0 1.1.9 2 2 2h14c1.1 0 2-.9 2-2V5c0-1.1-.9-2-2-2zM9 17H7v-7h2v7zm4 0h-2V7h2v10zm4 0h-2v-4h2v4z\"/>\n",
              "    </g>\n",
              "</svg>\n",
              "  </button>\n",
              "\n",
              "<style>\n",
              "  .colab-df-quickchart {\n",
              "      --bg-color: #E8F0FE;\n",
              "      --fill-color: #1967D2;\n",
              "      --hover-bg-color: #E2EBFA;\n",
              "      --hover-fill-color: #174EA6;\n",
              "      --disabled-fill-color: #AAA;\n",
              "      --disabled-bg-color: #DDD;\n",
              "  }\n",
              "\n",
              "  [theme=dark] .colab-df-quickchart {\n",
              "      --bg-color: #3B4455;\n",
              "      --fill-color: #D2E3FC;\n",
              "      --hover-bg-color: #434B5C;\n",
              "      --hover-fill-color: #FFFFFF;\n",
              "      --disabled-bg-color: #3B4455;\n",
              "      --disabled-fill-color: #666;\n",
              "  }\n",
              "\n",
              "  .colab-df-quickchart {\n",
              "    background-color: var(--bg-color);\n",
              "    border: none;\n",
              "    border-radius: 50%;\n",
              "    cursor: pointer;\n",
              "    display: none;\n",
              "    fill: var(--fill-color);\n",
              "    height: 32px;\n",
              "    padding: 0;\n",
              "    width: 32px;\n",
              "  }\n",
              "\n",
              "  .colab-df-quickchart:hover {\n",
              "    background-color: var(--hover-bg-color);\n",
              "    box-shadow: 0 1px 2px rgba(60, 64, 67, 0.3), 0 1px 3px 1px rgba(60, 64, 67, 0.15);\n",
              "    fill: var(--button-hover-fill-color);\n",
              "  }\n",
              "\n",
              "  .colab-df-quickchart-complete:disabled,\n",
              "  .colab-df-quickchart-complete:disabled:hover {\n",
              "    background-color: var(--disabled-bg-color);\n",
              "    fill: var(--disabled-fill-color);\n",
              "    box-shadow: none;\n",
              "  }\n",
              "\n",
              "  .colab-df-spinner {\n",
              "    border: 2px solid var(--fill-color);\n",
              "    border-color: transparent;\n",
              "    border-bottom-color: var(--fill-color);\n",
              "    animation:\n",
              "      spin 1s steps(1) infinite;\n",
              "  }\n",
              "\n",
              "  @keyframes spin {\n",
              "    0% {\n",
              "      border-color: transparent;\n",
              "      border-bottom-color: var(--fill-color);\n",
              "      border-left-color: var(--fill-color);\n",
              "    }\n",
              "    20% {\n",
              "      border-color: transparent;\n",
              "      border-left-color: var(--fill-color);\n",
              "      border-top-color: var(--fill-color);\n",
              "    }\n",
              "    30% {\n",
              "      border-color: transparent;\n",
              "      border-left-color: var(--fill-color);\n",
              "      border-top-color: var(--fill-color);\n",
              "      border-right-color: var(--fill-color);\n",
              "    }\n",
              "    40% {\n",
              "      border-color: transparent;\n",
              "      border-right-color: var(--fill-color);\n",
              "      border-top-color: var(--fill-color);\n",
              "    }\n",
              "    60% {\n",
              "      border-color: transparent;\n",
              "      border-right-color: var(--fill-color);\n",
              "    }\n",
              "    80% {\n",
              "      border-color: transparent;\n",
              "      border-right-color: var(--fill-color);\n",
              "      border-bottom-color: var(--fill-color);\n",
              "    }\n",
              "    90% {\n",
              "      border-color: transparent;\n",
              "      border-bottom-color: var(--fill-color);\n",
              "    }\n",
              "  }\n",
              "</style>\n",
              "\n",
              "  <script>\n",
              "    async function quickchart(key) {\n",
              "      const quickchartButtonEl =\n",
              "        document.querySelector('#' + key + ' button');\n",
              "      quickchartButtonEl.disabled = true;  // To prevent multiple clicks.\n",
              "      quickchartButtonEl.classList.add('colab-df-spinner');\n",
              "      try {\n",
              "        const charts = await google.colab.kernel.invokeFunction(\n",
              "            'suggestCharts', [key], {});\n",
              "      } catch (error) {\n",
              "        console.error('Error during call to suggestCharts:', error);\n",
              "      }\n",
              "      quickchartButtonEl.classList.remove('colab-df-spinner');\n",
              "      quickchartButtonEl.classList.add('colab-df-quickchart-complete');\n",
              "    }\n",
              "    (() => {\n",
              "      let quickchartButtonEl =\n",
              "        document.querySelector('#df-fcb67236-48a8-4a8d-8e65-d48895673bfa button');\n",
              "      quickchartButtonEl.style.display =\n",
              "        google.colab.kernel.accessAllowed ? 'block' : 'none';\n",
              "    })();\n",
              "  </script>\n",
              "</div>\n",
              "\n",
              "    </div>\n",
              "  </div>\n"
            ],
            "application/vnd.google.colaboratory.intrinsic+json": {
              "type": "dataframe"
            }
          },
          "metadata": {},
          "execution_count": 66
        }
      ],
      "source": [
        "dataset[dataset.duplicated()]"
      ]
    },
    {
      "cell_type": "code",
      "execution_count": null,
      "metadata": {
        "id": "zED1GggVxXAg",
        "colab": {
          "base_uri": "https://localhost:8080/"
        },
        "outputId": "3f24c5e0-d9f6-4af7-89d3-25d9298fe30e"
      },
      "outputs": [
        {
          "output_type": "stream",
          "name": "stdout",
          "text": [
            "Tamanho inicial: 2830743, tamanho final 2522362 | Descartadas 308381 duplicadas\n"
          ]
        }
      ],
      "source": [
        "# Descartando duplicadas\n",
        "initial_len = dataset.shape[0]\n",
        "dataset = dataset.drop_duplicates()\n",
        "print(f'Tamanho inicial: {initial_len}, tamanho final {dataset.shape[0]} | Descartadas {initial_len - dataset.shape[0]} duplicadas')"
      ]
    },
    {
      "cell_type": "code",
      "execution_count": null,
      "metadata": {
        "id": "V7LWznKmd_6-",
        "colab": {
          "base_uri": "https://localhost:8080/"
        },
        "outputId": "b663a513-2562-4bfc-e998-49da75198cd6"
      },
      "outputs": [
        {
          "output_type": "execute_result",
          "data": {
            "text/plain": [
              "Index(['Flow Bytes/s'], dtype='object')"
            ]
          },
          "metadata": {},
          "execution_count": 68
        }
      ],
      "source": [
        "dataset.columns[dataset.isna().any(axis=0)]"
      ]
    },
    {
      "cell_type": "code",
      "execution_count": null,
      "metadata": {
        "id": "QiW6qMEyd16h",
        "colab": {
          "base_uri": "https://localhost:8080/",
          "height": 424
        },
        "outputId": "886844e9-3201-4209-bdbb-c5d95f236a82"
      },
      "outputs": [
        {
          "output_type": "execute_result",
          "data": {
            "text/plain": [
              "         Flow Bytes/s\n",
              "5106              NaN\n",
              "5833              NaN\n",
              "8381              NaN\n",
              "8552              NaN\n",
              "14762             NaN\n",
              "...               ...\n",
              "2577607           NaN\n",
              "2578213           NaN\n",
              "2611794           NaN\n",
              "2619737           NaN\n",
              "2814726           NaN\n",
              "\n",
              "[353 rows x 1 columns]"
            ],
            "text/html": [
              "\n",
              "  <div id=\"df-f2b86542-e592-4e97-a1c0-a715827aa17c\" class=\"colab-df-container\">\n",
              "    <div>\n",
              "<style scoped>\n",
              "    .dataframe tbody tr th:only-of-type {\n",
              "        vertical-align: middle;\n",
              "    }\n",
              "\n",
              "    .dataframe tbody tr th {\n",
              "        vertical-align: top;\n",
              "    }\n",
              "\n",
              "    .dataframe thead th {\n",
              "        text-align: right;\n",
              "    }\n",
              "</style>\n",
              "<table border=\"1\" class=\"dataframe\">\n",
              "  <thead>\n",
              "    <tr style=\"text-align: right;\">\n",
              "      <th></th>\n",
              "      <th>Flow Bytes/s</th>\n",
              "    </tr>\n",
              "  </thead>\n",
              "  <tbody>\n",
              "    <tr>\n",
              "      <th>5106</th>\n",
              "      <td>NaN</td>\n",
              "    </tr>\n",
              "    <tr>\n",
              "      <th>5833</th>\n",
              "      <td>NaN</td>\n",
              "    </tr>\n",
              "    <tr>\n",
              "      <th>8381</th>\n",
              "      <td>NaN</td>\n",
              "    </tr>\n",
              "    <tr>\n",
              "      <th>8552</th>\n",
              "      <td>NaN</td>\n",
              "    </tr>\n",
              "    <tr>\n",
              "      <th>14762</th>\n",
              "      <td>NaN</td>\n",
              "    </tr>\n",
              "    <tr>\n",
              "      <th>...</th>\n",
              "      <td>...</td>\n",
              "    </tr>\n",
              "    <tr>\n",
              "      <th>2577607</th>\n",
              "      <td>NaN</td>\n",
              "    </tr>\n",
              "    <tr>\n",
              "      <th>2578213</th>\n",
              "      <td>NaN</td>\n",
              "    </tr>\n",
              "    <tr>\n",
              "      <th>2611794</th>\n",
              "      <td>NaN</td>\n",
              "    </tr>\n",
              "    <tr>\n",
              "      <th>2619737</th>\n",
              "      <td>NaN</td>\n",
              "    </tr>\n",
              "    <tr>\n",
              "      <th>2814726</th>\n",
              "      <td>NaN</td>\n",
              "    </tr>\n",
              "  </tbody>\n",
              "</table>\n",
              "<p>353 rows × 1 columns</p>\n",
              "</div>\n",
              "    <div class=\"colab-df-buttons\">\n",
              "\n",
              "  <div class=\"colab-df-container\">\n",
              "    <button class=\"colab-df-convert\" onclick=\"convertToInteractive('df-f2b86542-e592-4e97-a1c0-a715827aa17c')\"\n",
              "            title=\"Convert this dataframe to an interactive table.\"\n",
              "            style=\"display:none;\">\n",
              "\n",
              "  <svg xmlns=\"http://www.w3.org/2000/svg\" height=\"24px\" viewBox=\"0 -960 960 960\">\n",
              "    <path d=\"M120-120v-720h720v720H120Zm60-500h600v-160H180v160Zm220 220h160v-160H400v160Zm0 220h160v-160H400v160ZM180-400h160v-160H180v160Zm440 0h160v-160H620v160ZM180-180h160v-160H180v160Zm440 0h160v-160H620v160Z\"/>\n",
              "  </svg>\n",
              "    </button>\n",
              "\n",
              "  <style>\n",
              "    .colab-df-container {\n",
              "      display:flex;\n",
              "      gap: 12px;\n",
              "    }\n",
              "\n",
              "    .colab-df-convert {\n",
              "      background-color: #E8F0FE;\n",
              "      border: none;\n",
              "      border-radius: 50%;\n",
              "      cursor: pointer;\n",
              "      display: none;\n",
              "      fill: #1967D2;\n",
              "      height: 32px;\n",
              "      padding: 0 0 0 0;\n",
              "      width: 32px;\n",
              "    }\n",
              "\n",
              "    .colab-df-convert:hover {\n",
              "      background-color: #E2EBFA;\n",
              "      box-shadow: 0px 1px 2px rgba(60, 64, 67, 0.3), 0px 1px 3px 1px rgba(60, 64, 67, 0.15);\n",
              "      fill: #174EA6;\n",
              "    }\n",
              "\n",
              "    .colab-df-buttons div {\n",
              "      margin-bottom: 4px;\n",
              "    }\n",
              "\n",
              "    [theme=dark] .colab-df-convert {\n",
              "      background-color: #3B4455;\n",
              "      fill: #D2E3FC;\n",
              "    }\n",
              "\n",
              "    [theme=dark] .colab-df-convert:hover {\n",
              "      background-color: #434B5C;\n",
              "      box-shadow: 0px 1px 3px 1px rgba(0, 0, 0, 0.15);\n",
              "      filter: drop-shadow(0px 1px 2px rgba(0, 0, 0, 0.3));\n",
              "      fill: #FFFFFF;\n",
              "    }\n",
              "  </style>\n",
              "\n",
              "    <script>\n",
              "      const buttonEl =\n",
              "        document.querySelector('#df-f2b86542-e592-4e97-a1c0-a715827aa17c button.colab-df-convert');\n",
              "      buttonEl.style.display =\n",
              "        google.colab.kernel.accessAllowed ? 'block' : 'none';\n",
              "\n",
              "      async function convertToInteractive(key) {\n",
              "        const element = document.querySelector('#df-f2b86542-e592-4e97-a1c0-a715827aa17c');\n",
              "        const dataTable =\n",
              "          await google.colab.kernel.invokeFunction('convertToInteractive',\n",
              "                                                    [key], {});\n",
              "        if (!dataTable) return;\n",
              "\n",
              "        const docLinkHtml = 'Like what you see? Visit the ' +\n",
              "          '<a target=\"_blank\" href=https://colab.research.google.com/notebooks/data_table.ipynb>data table notebook</a>'\n",
              "          + ' to learn more about interactive tables.';\n",
              "        element.innerHTML = '';\n",
              "        dataTable['output_type'] = 'display_data';\n",
              "        await google.colab.output.renderOutput(dataTable, element);\n",
              "        const docLink = document.createElement('div');\n",
              "        docLink.innerHTML = docLinkHtml;\n",
              "        element.appendChild(docLink);\n",
              "      }\n",
              "    </script>\n",
              "  </div>\n",
              "\n",
              "\n",
              "<div id=\"df-3c93b8c6-7fa9-4eca-b390-9ec59c1e3350\">\n",
              "  <button class=\"colab-df-quickchart\" onclick=\"quickchart('df-3c93b8c6-7fa9-4eca-b390-9ec59c1e3350')\"\n",
              "            title=\"Suggest charts\"\n",
              "            style=\"display:none;\">\n",
              "\n",
              "<svg xmlns=\"http://www.w3.org/2000/svg\" height=\"24px\"viewBox=\"0 0 24 24\"\n",
              "     width=\"24px\">\n",
              "    <g>\n",
              "        <path d=\"M19 3H5c-1.1 0-2 .9-2 2v14c0 1.1.9 2 2 2h14c1.1 0 2-.9 2-2V5c0-1.1-.9-2-2-2zM9 17H7v-7h2v7zm4 0h-2V7h2v10zm4 0h-2v-4h2v4z\"/>\n",
              "    </g>\n",
              "</svg>\n",
              "  </button>\n",
              "\n",
              "<style>\n",
              "  .colab-df-quickchart {\n",
              "      --bg-color: #E8F0FE;\n",
              "      --fill-color: #1967D2;\n",
              "      --hover-bg-color: #E2EBFA;\n",
              "      --hover-fill-color: #174EA6;\n",
              "      --disabled-fill-color: #AAA;\n",
              "      --disabled-bg-color: #DDD;\n",
              "  }\n",
              "\n",
              "  [theme=dark] .colab-df-quickchart {\n",
              "      --bg-color: #3B4455;\n",
              "      --fill-color: #D2E3FC;\n",
              "      --hover-bg-color: #434B5C;\n",
              "      --hover-fill-color: #FFFFFF;\n",
              "      --disabled-bg-color: #3B4455;\n",
              "      --disabled-fill-color: #666;\n",
              "  }\n",
              "\n",
              "  .colab-df-quickchart {\n",
              "    background-color: var(--bg-color);\n",
              "    border: none;\n",
              "    border-radius: 50%;\n",
              "    cursor: pointer;\n",
              "    display: none;\n",
              "    fill: var(--fill-color);\n",
              "    height: 32px;\n",
              "    padding: 0;\n",
              "    width: 32px;\n",
              "  }\n",
              "\n",
              "  .colab-df-quickchart:hover {\n",
              "    background-color: var(--hover-bg-color);\n",
              "    box-shadow: 0 1px 2px rgba(60, 64, 67, 0.3), 0 1px 3px 1px rgba(60, 64, 67, 0.15);\n",
              "    fill: var(--button-hover-fill-color);\n",
              "  }\n",
              "\n",
              "  .colab-df-quickchart-complete:disabled,\n",
              "  .colab-df-quickchart-complete:disabled:hover {\n",
              "    background-color: var(--disabled-bg-color);\n",
              "    fill: var(--disabled-fill-color);\n",
              "    box-shadow: none;\n",
              "  }\n",
              "\n",
              "  .colab-df-spinner {\n",
              "    border: 2px solid var(--fill-color);\n",
              "    border-color: transparent;\n",
              "    border-bottom-color: var(--fill-color);\n",
              "    animation:\n",
              "      spin 1s steps(1) infinite;\n",
              "  }\n",
              "\n",
              "  @keyframes spin {\n",
              "    0% {\n",
              "      border-color: transparent;\n",
              "      border-bottom-color: var(--fill-color);\n",
              "      border-left-color: var(--fill-color);\n",
              "    }\n",
              "    20% {\n",
              "      border-color: transparent;\n",
              "      border-left-color: var(--fill-color);\n",
              "      border-top-color: var(--fill-color);\n",
              "    }\n",
              "    30% {\n",
              "      border-color: transparent;\n",
              "      border-left-color: var(--fill-color);\n",
              "      border-top-color: var(--fill-color);\n",
              "      border-right-color: var(--fill-color);\n",
              "    }\n",
              "    40% {\n",
              "      border-color: transparent;\n",
              "      border-right-color: var(--fill-color);\n",
              "      border-top-color: var(--fill-color);\n",
              "    }\n",
              "    60% {\n",
              "      border-color: transparent;\n",
              "      border-right-color: var(--fill-color);\n",
              "    }\n",
              "    80% {\n",
              "      border-color: transparent;\n",
              "      border-right-color: var(--fill-color);\n",
              "      border-bottom-color: var(--fill-color);\n",
              "    }\n",
              "    90% {\n",
              "      border-color: transparent;\n",
              "      border-bottom-color: var(--fill-color);\n",
              "    }\n",
              "  }\n",
              "</style>\n",
              "\n",
              "  <script>\n",
              "    async function quickchart(key) {\n",
              "      const quickchartButtonEl =\n",
              "        document.querySelector('#' + key + ' button');\n",
              "      quickchartButtonEl.disabled = true;  // To prevent multiple clicks.\n",
              "      quickchartButtonEl.classList.add('colab-df-spinner');\n",
              "      try {\n",
              "        const charts = await google.colab.kernel.invokeFunction(\n",
              "            'suggestCharts', [key], {});\n",
              "      } catch (error) {\n",
              "        console.error('Error during call to suggestCharts:', error);\n",
              "      }\n",
              "      quickchartButtonEl.classList.remove('colab-df-spinner');\n",
              "      quickchartButtonEl.classList.add('colab-df-quickchart-complete');\n",
              "    }\n",
              "    (() => {\n",
              "      let quickchartButtonEl =\n",
              "        document.querySelector('#df-3c93b8c6-7fa9-4eca-b390-9ec59c1e3350 button');\n",
              "      quickchartButtonEl.style.display =\n",
              "        google.colab.kernel.accessAllowed ? 'block' : 'none';\n",
              "    })();\n",
              "  </script>\n",
              "</div>\n",
              "\n",
              "    </div>\n",
              "  </div>\n"
            ],
            "application/vnd.google.colaboratory.intrinsic+json": {
              "type": "dataframe",
              "summary": "{\n  \"name\": \"dataset[dataset\",\n  \"rows\": 353,\n  \"fields\": [\n    {\n      \"column\": \"Flow Bytes/s\",\n      \"properties\": {\n        \"dtype\": \"number\",\n        \"std\": null,\n        \"min\": null,\n        \"max\": null,\n        \"num_unique_values\": 0,\n        \"samples\": [],\n        \"semantic_type\": \"\",\n        \"description\": \"\"\n      }\n    }\n  ]\n}"
            }
          },
          "metadata": {},
          "execution_count": 69
        }
      ],
      "source": [
        "dataset[dataset.isna().any(axis=1)][['Flow Bytes/s']]"
      ]
    },
    {
      "cell_type": "code",
      "execution_count": null,
      "metadata": {
        "id": "6IT59ZU4NRVf",
        "colab": {
          "base_uri": "https://localhost:8080/"
        },
        "outputId": "6a756d39-0708-471a-93ee-f6b6c251875b"
      },
      "outputs": [
        {
          "output_type": "stream",
          "name": "stdout",
          "text": [
            "Tamanho inicial: 2522362, tamanho final 2522009 | Descartados 353 registros com valores NA\n"
          ]
        }
      ],
      "source": [
        "# Descartando registros com valores NaN/Null/NA\n",
        "initial_len = dataset.shape[0]\n",
        "dataset = dataset.dropna()\n",
        "print(f'Tamanho inicial: {initial_len}, tamanho final {dataset.shape[0]} | Descartados {initial_len - dataset.shape[0]} registros com valores NA')"
      ]
    },
    {
      "cell_type": "code",
      "source": [
        "dataset = dataset.reset_index(drop=True)"
      ],
      "metadata": {
        "id": "zQICH4gq6PqA"
      },
      "execution_count": null,
      "outputs": []
    },
    {
      "cell_type": "code",
      "source": [
        "dataset_columns_isfinite = np.isfinite(dataset.drop(['Label'], axis='columns')).all(axis=0)\n",
        "dataset_columns_isfinite[dataset_columns_isfinite == False]"
      ],
      "metadata": {
        "id": "_cX7zCoE3S_y",
        "colab": {
          "base_uri": "https://localhost:8080/",
          "height": 147
        },
        "outputId": "681c0c35-3405-49d6-ece5-8c7c88ccb262"
      },
      "execution_count": null,
      "outputs": [
        {
          "output_type": "execute_result",
          "data": {
            "text/plain": [
              "Flow Bytes/s      False\n",
              "Flow Packets/s    False\n",
              "dtype: bool"
            ],
            "text/html": [
              "<div>\n",
              "<style scoped>\n",
              "    .dataframe tbody tr th:only-of-type {\n",
              "        vertical-align: middle;\n",
              "    }\n",
              "\n",
              "    .dataframe tbody tr th {\n",
              "        vertical-align: top;\n",
              "    }\n",
              "\n",
              "    .dataframe thead th {\n",
              "        text-align: right;\n",
              "    }\n",
              "</style>\n",
              "<table border=\"1\" class=\"dataframe\">\n",
              "  <thead>\n",
              "    <tr style=\"text-align: right;\">\n",
              "      <th></th>\n",
              "      <th>0</th>\n",
              "    </tr>\n",
              "  </thead>\n",
              "  <tbody>\n",
              "    <tr>\n",
              "      <th>Flow Bytes/s</th>\n",
              "      <td>False</td>\n",
              "    </tr>\n",
              "    <tr>\n",
              "      <th>Flow Packets/s</th>\n",
              "      <td>False</td>\n",
              "    </tr>\n",
              "  </tbody>\n",
              "</table>\n",
              "</div><br><label><b>dtype:</b> bool</label>"
            ]
          },
          "metadata": {},
          "execution_count": 72
        }
      ]
    },
    {
      "cell_type": "code",
      "source": [
        "dataset_rows_isfinite = np.isfinite(dataset.drop(['Label'], axis='columns')).all(axis=1)\n",
        "inf_indexes = dataset_rows_isfinite[dataset_rows_isfinite == False].index\n",
        "dataset.iloc[inf_indexes][['Flow Bytes/s', 'Flow Packets/s']]"
      ],
      "metadata": {
        "id": "ug6Cu3GC5Lla",
        "colab": {
          "base_uri": "https://localhost:8080/",
          "height": 424
        },
        "outputId": "1d86b171-7cd2-4861-e4f3-ff7ab2d5e0c5"
      },
      "execution_count": null,
      "outputs": [
        {
          "output_type": "execute_result",
          "data": {
            "text/plain": [
              "         Flow Bytes/s  Flow Packets/s\n",
              "1388              inf             inf\n",
              "2036              inf             inf\n",
              "2383              inf             inf\n",
              "3084              inf             inf\n",
              "3775              inf             inf\n",
              "...               ...             ...\n",
              "2507126           inf             inf\n",
              "2511105           inf             inf\n",
              "2511877           inf             inf\n",
              "2511898           inf             inf\n",
              "2513658           inf             inf\n",
              "\n",
              "[1211 rows x 2 columns]"
            ],
            "text/html": [
              "\n",
              "  <div id=\"df-60f4c385-2132-4254-a64c-120faeb8aa95\" class=\"colab-df-container\">\n",
              "    <div>\n",
              "<style scoped>\n",
              "    .dataframe tbody tr th:only-of-type {\n",
              "        vertical-align: middle;\n",
              "    }\n",
              "\n",
              "    .dataframe tbody tr th {\n",
              "        vertical-align: top;\n",
              "    }\n",
              "\n",
              "    .dataframe thead th {\n",
              "        text-align: right;\n",
              "    }\n",
              "</style>\n",
              "<table border=\"1\" class=\"dataframe\">\n",
              "  <thead>\n",
              "    <tr style=\"text-align: right;\">\n",
              "      <th></th>\n",
              "      <th>Flow Bytes/s</th>\n",
              "      <th>Flow Packets/s</th>\n",
              "    </tr>\n",
              "  </thead>\n",
              "  <tbody>\n",
              "    <tr>\n",
              "      <th>1388</th>\n",
              "      <td>inf</td>\n",
              "      <td>inf</td>\n",
              "    </tr>\n",
              "    <tr>\n",
              "      <th>2036</th>\n",
              "      <td>inf</td>\n",
              "      <td>inf</td>\n",
              "    </tr>\n",
              "    <tr>\n",
              "      <th>2383</th>\n",
              "      <td>inf</td>\n",
              "      <td>inf</td>\n",
              "    </tr>\n",
              "    <tr>\n",
              "      <th>3084</th>\n",
              "      <td>inf</td>\n",
              "      <td>inf</td>\n",
              "    </tr>\n",
              "    <tr>\n",
              "      <th>3775</th>\n",
              "      <td>inf</td>\n",
              "      <td>inf</td>\n",
              "    </tr>\n",
              "    <tr>\n",
              "      <th>...</th>\n",
              "      <td>...</td>\n",
              "      <td>...</td>\n",
              "    </tr>\n",
              "    <tr>\n",
              "      <th>2507126</th>\n",
              "      <td>inf</td>\n",
              "      <td>inf</td>\n",
              "    </tr>\n",
              "    <tr>\n",
              "      <th>2511105</th>\n",
              "      <td>inf</td>\n",
              "      <td>inf</td>\n",
              "    </tr>\n",
              "    <tr>\n",
              "      <th>2511877</th>\n",
              "      <td>inf</td>\n",
              "      <td>inf</td>\n",
              "    </tr>\n",
              "    <tr>\n",
              "      <th>2511898</th>\n",
              "      <td>inf</td>\n",
              "      <td>inf</td>\n",
              "    </tr>\n",
              "    <tr>\n",
              "      <th>2513658</th>\n",
              "      <td>inf</td>\n",
              "      <td>inf</td>\n",
              "    </tr>\n",
              "  </tbody>\n",
              "</table>\n",
              "<p>1211 rows × 2 columns</p>\n",
              "</div>\n",
              "    <div class=\"colab-df-buttons\">\n",
              "\n",
              "  <div class=\"colab-df-container\">\n",
              "    <button class=\"colab-df-convert\" onclick=\"convertToInteractive('df-60f4c385-2132-4254-a64c-120faeb8aa95')\"\n",
              "            title=\"Convert this dataframe to an interactive table.\"\n",
              "            style=\"display:none;\">\n",
              "\n",
              "  <svg xmlns=\"http://www.w3.org/2000/svg\" height=\"24px\" viewBox=\"0 -960 960 960\">\n",
              "    <path d=\"M120-120v-720h720v720H120Zm60-500h600v-160H180v160Zm220 220h160v-160H400v160Zm0 220h160v-160H400v160ZM180-400h160v-160H180v160Zm440 0h160v-160H620v160ZM180-180h160v-160H180v160Zm440 0h160v-160H620v160Z\"/>\n",
              "  </svg>\n",
              "    </button>\n",
              "\n",
              "  <style>\n",
              "    .colab-df-container {\n",
              "      display:flex;\n",
              "      gap: 12px;\n",
              "    }\n",
              "\n",
              "    .colab-df-convert {\n",
              "      background-color: #E8F0FE;\n",
              "      border: none;\n",
              "      border-radius: 50%;\n",
              "      cursor: pointer;\n",
              "      display: none;\n",
              "      fill: #1967D2;\n",
              "      height: 32px;\n",
              "      padding: 0 0 0 0;\n",
              "      width: 32px;\n",
              "    }\n",
              "\n",
              "    .colab-df-convert:hover {\n",
              "      background-color: #E2EBFA;\n",
              "      box-shadow: 0px 1px 2px rgba(60, 64, 67, 0.3), 0px 1px 3px 1px rgba(60, 64, 67, 0.15);\n",
              "      fill: #174EA6;\n",
              "    }\n",
              "\n",
              "    .colab-df-buttons div {\n",
              "      margin-bottom: 4px;\n",
              "    }\n",
              "\n",
              "    [theme=dark] .colab-df-convert {\n",
              "      background-color: #3B4455;\n",
              "      fill: #D2E3FC;\n",
              "    }\n",
              "\n",
              "    [theme=dark] .colab-df-convert:hover {\n",
              "      background-color: #434B5C;\n",
              "      box-shadow: 0px 1px 3px 1px rgba(0, 0, 0, 0.15);\n",
              "      filter: drop-shadow(0px 1px 2px rgba(0, 0, 0, 0.3));\n",
              "      fill: #FFFFFF;\n",
              "    }\n",
              "  </style>\n",
              "\n",
              "    <script>\n",
              "      const buttonEl =\n",
              "        document.querySelector('#df-60f4c385-2132-4254-a64c-120faeb8aa95 button.colab-df-convert');\n",
              "      buttonEl.style.display =\n",
              "        google.colab.kernel.accessAllowed ? 'block' : 'none';\n",
              "\n",
              "      async function convertToInteractive(key) {\n",
              "        const element = document.querySelector('#df-60f4c385-2132-4254-a64c-120faeb8aa95');\n",
              "        const dataTable =\n",
              "          await google.colab.kernel.invokeFunction('convertToInteractive',\n",
              "                                                    [key], {});\n",
              "        if (!dataTable) return;\n",
              "\n",
              "        const docLinkHtml = 'Like what you see? Visit the ' +\n",
              "          '<a target=\"_blank\" href=https://colab.research.google.com/notebooks/data_table.ipynb>data table notebook</a>'\n",
              "          + ' to learn more about interactive tables.';\n",
              "        element.innerHTML = '';\n",
              "        dataTable['output_type'] = 'display_data';\n",
              "        await google.colab.output.renderOutput(dataTable, element);\n",
              "        const docLink = document.createElement('div');\n",
              "        docLink.innerHTML = docLinkHtml;\n",
              "        element.appendChild(docLink);\n",
              "      }\n",
              "    </script>\n",
              "  </div>\n",
              "\n",
              "\n",
              "<div id=\"df-3adf8bf3-996a-407f-9e65-3af01c54001a\">\n",
              "  <button class=\"colab-df-quickchart\" onclick=\"quickchart('df-3adf8bf3-996a-407f-9e65-3af01c54001a')\"\n",
              "            title=\"Suggest charts\"\n",
              "            style=\"display:none;\">\n",
              "\n",
              "<svg xmlns=\"http://www.w3.org/2000/svg\" height=\"24px\"viewBox=\"0 0 24 24\"\n",
              "     width=\"24px\">\n",
              "    <g>\n",
              "        <path d=\"M19 3H5c-1.1 0-2 .9-2 2v14c0 1.1.9 2 2 2h14c1.1 0 2-.9 2-2V5c0-1.1-.9-2-2-2zM9 17H7v-7h2v7zm4 0h-2V7h2v10zm4 0h-2v-4h2v4z\"/>\n",
              "    </g>\n",
              "</svg>\n",
              "  </button>\n",
              "\n",
              "<style>\n",
              "  .colab-df-quickchart {\n",
              "      --bg-color: #E8F0FE;\n",
              "      --fill-color: #1967D2;\n",
              "      --hover-bg-color: #E2EBFA;\n",
              "      --hover-fill-color: #174EA6;\n",
              "      --disabled-fill-color: #AAA;\n",
              "      --disabled-bg-color: #DDD;\n",
              "  }\n",
              "\n",
              "  [theme=dark] .colab-df-quickchart {\n",
              "      --bg-color: #3B4455;\n",
              "      --fill-color: #D2E3FC;\n",
              "      --hover-bg-color: #434B5C;\n",
              "      --hover-fill-color: #FFFFFF;\n",
              "      --disabled-bg-color: #3B4455;\n",
              "      --disabled-fill-color: #666;\n",
              "  }\n",
              "\n",
              "  .colab-df-quickchart {\n",
              "    background-color: var(--bg-color);\n",
              "    border: none;\n",
              "    border-radius: 50%;\n",
              "    cursor: pointer;\n",
              "    display: none;\n",
              "    fill: var(--fill-color);\n",
              "    height: 32px;\n",
              "    padding: 0;\n",
              "    width: 32px;\n",
              "  }\n",
              "\n",
              "  .colab-df-quickchart:hover {\n",
              "    background-color: var(--hover-bg-color);\n",
              "    box-shadow: 0 1px 2px rgba(60, 64, 67, 0.3), 0 1px 3px 1px rgba(60, 64, 67, 0.15);\n",
              "    fill: var(--button-hover-fill-color);\n",
              "  }\n",
              "\n",
              "  .colab-df-quickchart-complete:disabled,\n",
              "  .colab-df-quickchart-complete:disabled:hover {\n",
              "    background-color: var(--disabled-bg-color);\n",
              "    fill: var(--disabled-fill-color);\n",
              "    box-shadow: none;\n",
              "  }\n",
              "\n",
              "  .colab-df-spinner {\n",
              "    border: 2px solid var(--fill-color);\n",
              "    border-color: transparent;\n",
              "    border-bottom-color: var(--fill-color);\n",
              "    animation:\n",
              "      spin 1s steps(1) infinite;\n",
              "  }\n",
              "\n",
              "  @keyframes spin {\n",
              "    0% {\n",
              "      border-color: transparent;\n",
              "      border-bottom-color: var(--fill-color);\n",
              "      border-left-color: var(--fill-color);\n",
              "    }\n",
              "    20% {\n",
              "      border-color: transparent;\n",
              "      border-left-color: var(--fill-color);\n",
              "      border-top-color: var(--fill-color);\n",
              "    }\n",
              "    30% {\n",
              "      border-color: transparent;\n",
              "      border-left-color: var(--fill-color);\n",
              "      border-top-color: var(--fill-color);\n",
              "      border-right-color: var(--fill-color);\n",
              "    }\n",
              "    40% {\n",
              "      border-color: transparent;\n",
              "      border-right-color: var(--fill-color);\n",
              "      border-top-color: var(--fill-color);\n",
              "    }\n",
              "    60% {\n",
              "      border-color: transparent;\n",
              "      border-right-color: var(--fill-color);\n",
              "    }\n",
              "    80% {\n",
              "      border-color: transparent;\n",
              "      border-right-color: var(--fill-color);\n",
              "      border-bottom-color: var(--fill-color);\n",
              "    }\n",
              "    90% {\n",
              "      border-color: transparent;\n",
              "      border-bottom-color: var(--fill-color);\n",
              "    }\n",
              "  }\n",
              "</style>\n",
              "\n",
              "  <script>\n",
              "    async function quickchart(key) {\n",
              "      const quickchartButtonEl =\n",
              "        document.querySelector('#' + key + ' button');\n",
              "      quickchartButtonEl.disabled = true;  // To prevent multiple clicks.\n",
              "      quickchartButtonEl.classList.add('colab-df-spinner');\n",
              "      try {\n",
              "        const charts = await google.colab.kernel.invokeFunction(\n",
              "            'suggestCharts', [key], {});\n",
              "      } catch (error) {\n",
              "        console.error('Error during call to suggestCharts:', error);\n",
              "      }\n",
              "      quickchartButtonEl.classList.remove('colab-df-spinner');\n",
              "      quickchartButtonEl.classList.add('colab-df-quickchart-complete');\n",
              "    }\n",
              "    (() => {\n",
              "      let quickchartButtonEl =\n",
              "        document.querySelector('#df-3adf8bf3-996a-407f-9e65-3af01c54001a button');\n",
              "      quickchartButtonEl.style.display =\n",
              "        google.colab.kernel.accessAllowed ? 'block' : 'none';\n",
              "    })();\n",
              "  </script>\n",
              "</div>\n",
              "\n",
              "    </div>\n",
              "  </div>\n"
            ],
            "application/vnd.google.colaboratory.intrinsic+json": {
              "type": "dataframe",
              "repr_error": "Out of range float values are not JSON compliant: inf"
            }
          },
          "metadata": {},
          "execution_count": 73
        }
      ]
    },
    {
      "cell_type": "code",
      "execution_count": null,
      "metadata": {
        "id": "MG1_vSKMf2Oy"
      },
      "outputs": [],
      "source": [
        "# Evitando registros com valores não finitos\n",
        "# Nesse caso uma abordagem válida é substituirmos os mesmos pelo maior valor finito presente no dataset\n",
        "max_finite_flow_packets_per_sec = dataset[np.isfinite(dataset['Flow Packets/s'])]['Flow Packets/s'].max()\n",
        "max_finite_flow_bytes_per_sec = dataset[np.isfinite(dataset['Flow Bytes/s'])]['Flow Bytes/s'].max()\n",
        "\n",
        "dataset.loc[dataset['Flow Packets/s'] == np.inf, 'Flow Packets/s'] = max_finite_flow_packets_per_sec\n",
        "dataset.loc[dataset['Flow Bytes/s'] == np.inf, 'Flow Bytes/s'] = max_finite_flow_bytes_per_sec"
      ]
    },
    {
      "cell_type": "code",
      "source": [
        "dataset.info()"
      ],
      "metadata": {
        "colab": {
          "base_uri": "https://localhost:8080/"
        },
        "id": "MlY5HzGnrsSr",
        "outputId": "010e3dae-ed77-411e-ad0a-0d3c559da142"
      },
      "execution_count": null,
      "outputs": [
        {
          "output_type": "stream",
          "name": "stdout",
          "text": [
            "<class 'pandas.core.frame.DataFrame'>\n",
            "RangeIndex: 2522009 entries, 0 to 2522008\n",
            "Data columns (total 79 columns):\n",
            " #   Column                       Dtype  \n",
            "---  ------                       -----  \n",
            " 0   Destination Port             int64  \n",
            " 1   Flow Duration                int64  \n",
            " 2   Total Fwd Packets            int64  \n",
            " 3   Total Backward Packets       int64  \n",
            " 4   Total Length of Fwd Packets  int64  \n",
            " 5   Total Length of Bwd Packets  int64  \n",
            " 6   Fwd Packet Length Max        int64  \n",
            " 7   Fwd Packet Length Min        int64  \n",
            " 8   Fwd Packet Length Mean       float64\n",
            " 9   Fwd Packet Length Std        float64\n",
            " 10  Bwd Packet Length Max        int64  \n",
            " 11  Bwd Packet Length Min        int64  \n",
            " 12  Bwd Packet Length Mean       float64\n",
            " 13  Bwd Packet Length Std        float64\n",
            " 14  Flow Bytes/s                 float64\n",
            " 15  Flow Packets/s               float64\n",
            " 16  Flow IAT Mean                float64\n",
            " 17  Flow IAT Std                 float64\n",
            " 18  Flow IAT Max                 int64  \n",
            " 19  Flow IAT Min                 int64  \n",
            " 20  Fwd IAT Total                int64  \n",
            " 21  Fwd IAT Mean                 float64\n",
            " 22  Fwd IAT Std                  float64\n",
            " 23  Fwd IAT Max                  int64  \n",
            " 24  Fwd IAT Min                  int64  \n",
            " 25  Bwd IAT Total                int64  \n",
            " 26  Bwd IAT Mean                 float64\n",
            " 27  Bwd IAT Std                  float64\n",
            " 28  Bwd IAT Max                  int64  \n",
            " 29  Bwd IAT Min                  int64  \n",
            " 30  Fwd PSH Flags                int64  \n",
            " 31  Bwd PSH Flags                int64  \n",
            " 32  Fwd URG Flags                int64  \n",
            " 33  Bwd URG Flags                int64  \n",
            " 34  Fwd Header Length            int64  \n",
            " 35  Bwd Header Length            int64  \n",
            " 36  Fwd Packets/s                float64\n",
            " 37  Bwd Packets/s                float64\n",
            " 38  Min Packet Length            int64  \n",
            " 39  Max Packet Length            int64  \n",
            " 40  Packet Length Mean           float64\n",
            " 41  Packet Length Std            float64\n",
            " 42  Packet Length Variance       float64\n",
            " 43  FIN Flag Count               int64  \n",
            " 44  SYN Flag Count               int64  \n",
            " 45  RST Flag Count               int64  \n",
            " 46  PSH Flag Count               int64  \n",
            " 47  ACK Flag Count               int64  \n",
            " 48  URG Flag Count               int64  \n",
            " 49  CWE Flag Count               int64  \n",
            " 50  ECE Flag Count               int64  \n",
            " 51  Down/Up Ratio                int64  \n",
            " 52  Average Packet Size          float64\n",
            " 53  Avg Fwd Segment Size         float64\n",
            " 54  Avg Bwd Segment Size         float64\n",
            " 55  Fwd Header Length.1          int64  \n",
            " 56  Fwd Avg Bytes/Bulk           int64  \n",
            " 57  Fwd Avg Packets/Bulk         int64  \n",
            " 58  Fwd Avg Bulk Rate            int64  \n",
            " 59  Bwd Avg Bytes/Bulk           int64  \n",
            " 60  Bwd Avg Packets/Bulk         int64  \n",
            " 61  Bwd Avg Bulk Rate            int64  \n",
            " 62  Subflow Fwd Packets          int64  \n",
            " 63  Subflow Fwd Bytes            int64  \n",
            " 64  Subflow Bwd Packets          int64  \n",
            " 65  Subflow Bwd Bytes            int64  \n",
            " 66  Init_Win_bytes_forward       int64  \n",
            " 67  Init_Win_bytes_backward      int64  \n",
            " 68  act_data_pkt_fwd             int64  \n",
            " 69  min_seg_size_forward         int64  \n",
            " 70  Active Mean                  float64\n",
            " 71  Active Std                   float64\n",
            " 72  Active Max                   int64  \n",
            " 73  Active Min                   int64  \n",
            " 74  Idle Mean                    float64\n",
            " 75  Idle Std                     float64\n",
            " 76  Idle Max                     int64  \n",
            " 77  Idle Min                     int64  \n",
            " 78  Label                        object \n",
            "dtypes: float64(24), int64(54), object(1)\n",
            "memory usage: 1.5+ GB\n"
          ]
        }
      ]
    },
    {
      "cell_type": "markdown",
      "metadata": {
        "id": "W-XvDbz6q8jB"
      },
      "source": [
        "# Análise exploratória dos dados"
      ]
    },
    {
      "cell_type": "markdown",
      "metadata": {
        "id": "NVckGuDaxcGO"
      },
      "source": [
        "## Quantidade de instâncias benignas x maliciosas"
      ]
    },
    {
      "cell_type": "code",
      "execution_count": null,
      "metadata": {
        "id": "PLbbFtXln9th",
        "colab": {
          "base_uri": "https://localhost:8080/",
          "height": 491
        },
        "outputId": "42bae7b7-7d05-45d7-87d0-81d97d2a11f4"
      },
      "outputs": [
        {
          "output_type": "execute_result",
          "data": {
            "text/plain": [
              "<Axes: xlabel='Label', ylabel='count'>"
            ]
          },
          "metadata": {},
          "execution_count": 76
        },
        {
          "output_type": "display_data",
          "data": {
            "text/plain": [
              "<Figure size 640x480 with 1 Axes>"
            ],
            "image/png": "[encoded data removed]"
          },
          "metadata": {}
        }
      ],
      "source": [
        "sns.countplot(data=dataset['Label'].apply(lambda label: 'Malicious' if label != 'BENIGN' else 'Benign').to_frame(), x='Label')"
      ]
    },
    {
      "cell_type": "markdown",
      "metadata": {
        "id": "8qwei56XxhPf"
      },
      "source": [
        "## Quantidade de instâncias por tipo de ataque"
      ]
    },
    {
      "cell_type": "code",
      "execution_count": null,
      "metadata": {
        "id": "r9BBNOy1u4aJ"
      },
      "outputs": [],
      "source": [
        "dataset['Label'] = dataset['Label'].replace({'Web Attack � Brute Force':'Brute Force', 'Web Attack � XSS':'XSS', 'Web Attack � Sql Injection':'Sql Injection'})"
      ]
    },
    {
      "cell_type": "code",
      "execution_count": null,
      "metadata": {
        "id": "pSnxTG4Aqsga",
        "colab": {
          "base_uri": "https://localhost:8080/",
          "height": 807
        },
        "outputId": "b2006184-9187-4fc1-feee-baa4dc4471f8"
      },
      "outputs": [
        {
          "output_type": "execute_result",
          "data": {
            "text/plain": [
              "([0, 1, 2, 3, 4, 5, 6, 7, 8, 9, 10, 11, 12, 13],\n",
              " [Text(0, 0, 'DoS Hulk'),\n",
              "  Text(1, 0, 'DDoS'),\n",
              "  Text(2, 0, 'PortScan'),\n",
              "  Text(3, 0, 'DoS GoldenEye'),\n",
              "  Text(4, 0, 'FTP-Patator'),\n",
              "  Text(5, 0, 'DoS slowloris'),\n",
              "  Text(6, 0, 'DoS Slowhttptest'),\n",
              "  Text(7, 0, 'SSH-Patator'),\n",
              "  Text(8, 0, 'Bot'),\n",
              "  Text(9, 0, 'Brute Force'),\n",
              "  Text(10, 0, 'XSS'),\n",
              "  Text(11, 0, 'Infiltration'),\n",
              "  Text(12, 0, 'Sql Injection'),\n",
              "  Text(13, 0, 'Heartbleed')])"
            ]
          },
          "metadata": {},
          "execution_count": 78
        },
        {
          "output_type": "display_data",
          "data": {
            "text/plain": [
              "<Figure size 640x480 with 1 Axes>"
            ],
            "image/png": "[encoded data removed]"
          },
          "metadata": {}
        }
      ],
      "source": [
        "sns.countplot(data=dataset.query('Label != \"BENIGN\"')[['Label']], x='Label', order = dataset.query('Label != \"BENIGN\"')['Label'].value_counts().index)\n",
        "plt.xticks(rotation=45)"
      ]
    },
    {
      "cell_type": "markdown",
      "metadata": {
        "id": "Srjop6xWxnWF"
      },
      "source": [
        "## Ataques menos representados"
      ]
    },
    {
      "cell_type": "code",
      "execution_count": null,
      "metadata": {
        "id": "8HU78W11v-2p",
        "colab": {
          "base_uri": "https://localhost:8080/",
          "height": 624
        },
        "outputId": "a3c9d78c-c27b-43a7-a50d-d565c297b393"
      },
      "outputs": [
        {
          "output_type": "execute_result",
          "data": {
            "text/plain": [
              "([0, 1, 2, 3, 4],\n",
              " [Text(0, 0, 'Heartbleed'),\n",
              "  Text(1, 0, 'Brute Force'),\n",
              "  Text(2, 0, 'XSS'),\n",
              "  Text(3, 0, 'Sql Injection'),\n",
              "  Text(4, 0, 'Infiltration')])"
            ]
          },
          "metadata": {},
          "execution_count": 79
        },
        {
          "output_type": "display_data",
          "data": {
            "text/plain": [
              "<Figure size 640x480 with 1 Axes>"
            ],
            "image/png": "[encoded data removed]"
          },
          "metadata": {}
        }
      ],
      "source": [
        "N_LESS_REPRESENTED_LABELS = 5\n",
        "\n",
        "sns.countplot(data=dataset[dataset['Label'].isin(dataset.groupby('Label').size().sort_values(ascending=False)[(-1)*N_LESS_REPRESENTED_LABELS:].index)], x='Label')\n",
        "plt.xticks(rotation=45)"
      ]
    },
    {
      "cell_type": "markdown",
      "metadata": {
        "id": "B0eln0r6yxbn"
      },
      "source": [
        "## Análise estatística descritiva dos dados"
      ]
    },
    {
      "cell_type": "code",
      "source": [
        "dataset.describe()"
      ],
      "metadata": {
        "colab": {
          "base_uri": "https://localhost:8080/",
          "height": 384
        },
        "id": "1inNUqO2se06",
        "outputId": "5fa6988a-f9f0-4444-f850-63c250e3e59d"
      },
      "execution_count": null,
      "outputs": [
        {
          "output_type": "execute_result",
          "data": {
            "text/plain": [
              "       Destination Port  Flow Duration  Total Fwd Packets  \\\n",
              "count      2.522009e+06   2.522009e+06       2.522009e+06   \n",
              "mean       8.701432e+03   1.658364e+07       1.027750e+01   \n",
              "std        1.902225e+04   3.522618e+07       7.942294e+02   \n",
              "min        0.000000e+00  -1.300000e+01       1.000000e+00   \n",
              "25%        5.300000e+01   2.080000e+02       2.000000e+00   \n",
              "50%        8.000000e+01   5.058700e+04       2.000000e+00   \n",
              "75%        4.430000e+02   5.330376e+06       6.000000e+00   \n",
              "max        6.553500e+04   1.200000e+08       2.197590e+05   \n",
              "\n",
              "       Total Backward Packets  Total Length of Fwd Packets  \\\n",
              "count            2.522009e+06                 2.522009e+06   \n",
              "mean             1.156751e+01                 6.116607e+02   \n",
              "std              1.056668e+03                 1.058573e+04   \n",
              "min              0.000000e+00                 0.000000e+00   \n",
              "25%              1.000000e+00                 1.200000e+01   \n",
              "50%              2.000000e+00                 6.600000e+01   \n",
              "75%              5.000000e+00                 3.320000e+02   \n",
              "max              2.919220e+05                 1.290000e+07   \n",
              "\n",
              "       Total Length of Bwd Packets  Fwd Packet Length Max  \\\n",
              "count                 2.522009e+06           2.522009e+06   \n",
              "mean                  1.813569e+04           2.311241e+02   \n",
              "std                   2.397602e+06           7.562104e+02   \n",
              "min                   0.000000e+00           0.000000e+00   \n",
              "25%                   6.000000e+00           6.000000e+00   \n",
              "50%                   1.560000e+02           4.000000e+01   \n",
              "75%                   9.910000e+02           2.020000e+02   \n",
              "max                   6.554530e+08           2.482000e+04   \n",
              "\n",
              "       Fwd Packet Length Min  Fwd Packet Length Mean  Fwd Packet Length Std  \\\n",
              "count           2.522009e+06            2.522009e+06           2.522009e+06   \n",
              "mean            1.919733e+01            6.347899e+01           7.728840e+01   \n",
              "std             6.079830e+01            1.955137e+02           2.968147e+02   \n",
              "min             0.000000e+00            0.000000e+00           0.000000e+00   \n",
              "25%             0.000000e+00            6.000000e+00           0.000000e+00   \n",
              "50%             2.000000e+00            3.613084e+01           0.000000e+00   \n",
              "75%             3.700000e+01            5.200000e+01           7.417179e+01   \n",
              "max             2.325000e+03            5.940857e+03           7.125597e+03   \n",
              "\n",
              "       ...  act_data_pkt_fwd  min_seg_size_forward   Active Mean  \\\n",
              "count  ...      2.522009e+06          2.522009e+06  2.522009e+06   \n",
              "mean   ...      6.006745e+00         -3.080742e+03  9.153450e+04   \n",
              "std    ...      6.742531e+02          1.149482e+06  6.864883e+05   \n",
              "min    ...      0.000000e+00         -5.368707e+08  0.000000e+00   \n",
              "25%    ...      0.000000e+00          2.000000e+01  0.000000e+00   \n",
              "50%    ...      1.000000e+00          2.000000e+01  0.000000e+00   \n",
              "75%    ...      3.000000e+00          3.200000e+01  0.000000e+00   \n",
              "max    ...      2.135570e+05          1.380000e+02  1.100000e+08   \n",
              "\n",
              "         Active Std    Active Max    Active Min     Idle Mean      Idle Std  \\\n",
              "count  2.522009e+06  2.522009e+06  2.522009e+06  2.522009e+06  2.522009e+06   \n",
              "mean   4.616959e+04  1.719345e+05  6.543215e+04  9.332884e+06  5.655225e+05   \n",
              "std    4.164856e+05  1.085317e+06  6.110134e+05  2.484306e+07  4.873014e+06   \n",
              "min    0.000000e+00  0.000000e+00  0.000000e+00  0.000000e+00  0.000000e+00   \n",
              "25%    0.000000e+00  0.000000e+00  0.000000e+00  0.000000e+00  0.000000e+00   \n",
              "50%    0.000000e+00  0.000000e+00  0.000000e+00  0.000000e+00  0.000000e+00   \n",
              "75%    0.000000e+00  0.000000e+00  0.000000e+00  0.000000e+00  0.000000e+00   \n",
              "max    7.420000e+07  1.100000e+08  1.100000e+08  1.200000e+08  7.690000e+07   \n",
              "\n",
              "           Idle Max      Idle Min  \n",
              "count  2.522009e+06  2.522009e+06  \n",
              "mean   9.759082e+06  8.888401e+06  \n",
              "std    2.561220e+07  2.457630e+07  \n",
              "min    0.000000e+00  0.000000e+00  \n",
              "25%    0.000000e+00  0.000000e+00  \n",
              "50%    0.000000e+00  0.000000e+00  \n",
              "75%    0.000000e+00  0.000000e+00  \n",
              "max    1.200000e+08  1.200000e+08  \n",
              "\n",
              "[8 rows x 78 columns]"
            ],
            "text/html": [
              "\n",
              "  <div id=\"df-35e9cecc-7873-4e66-bdb4-ac21c5a774d4\" class=\"colab-df-container\">\n",
              "    <div>\n",
              "<style scoped>\n",
              "    .dataframe tbody tr th:only-of-type {\n",
              "        vertical-align: middle;\n",
              "    }\n",
              "\n",
              "    .dataframe tbody tr th {\n",
              "        vertical-align: top;\n",
              "    }\n",
              "\n",
              "    .dataframe thead th {\n",
              "        text-align: right;\n",
              "    }\n",
              "</style>\n",
              "<table border=\"1\" class=\"dataframe\">\n",
              "  <thead>\n",
              "    <tr style=\"text-align: right;\">\n",
              "      <th></th>\n",
              "      <th>Destination Port</th>\n",
              "      <th>Flow Duration</th>\n",
              "      <th>Total Fwd Packets</th>\n",
              "      <th>Total Backward Packets</th>\n",
              "      <th>Total Length of Fwd Packets</th>\n",
              "      <th>Total Length of Bwd Packets</th>\n",
              "      <th>Fwd Packet Length Max</th>\n",
              "      <th>Fwd Packet Length Min</th>\n",
              "      <th>Fwd Packet Length Mean</th>\n",
              "      <th>Fwd Packet Length Std</th>\n",
              "      <th>...</th>\n",
              "      <th>act_data_pkt_fwd</th>\n",
              "      <th>min_seg_size_forward</th>\n",
              "      <th>Active Mean</th>\n",
              "      <th>Active Std</th>\n",
              "      <th>Active Max</th>\n",
              "      <th>Active Min</th>\n",
              "      <th>Idle Mean</th>\n",
              "      <th>Idle Std</th>\n",
              "      <th>Idle Max</th>\n",
              "      <th>Idle Min</th>\n",
              "    </tr>\n",
              "  </thead>\n",
              "  <tbody>\n",
              "    <tr>\n",
              "      <th>count</th>\n",
              "      <td>2.522009e+06</td>\n",
              "      <td>2.522009e+06</td>\n",
              "      <td>2.522009e+06</td>\n",
              "      <td>2.522009e+06</td>\n",
              "      <td>2.522009e+06</td>\n",
              "      <td>2.522009e+06</td>\n",
              "      <td>2.522009e+06</td>\n",
              "      <td>2.522009e+06</td>\n",
              "      <td>2.522009e+06</td>\n",
              "      <td>2.522009e+06</td>\n",
              "      <td>...</td>\n",
              "      <td>2.522009e+06</td>\n",
              "      <td>2.522009e+06</td>\n",
              "      <td>2.522009e+06</td>\n",
              "      <td>2.522009e+06</td>\n",
              "      <td>2.522009e+06</td>\n",
              "      <td>2.522009e+06</td>\n",
              "      <td>2.522009e+06</td>\n",
              "      <td>2.522009e+06</td>\n",
              "      <td>2.522009e+06</td>\n",
              "      <td>2.522009e+06</td>\n",
              "    </tr>\n",
              "    <tr>\n",
              "      <th>mean</th>\n",
              "      <td>8.701432e+03</td>\n",
              "      <td>1.658364e+07</td>\n",
              "      <td>1.027750e+01</td>\n",
              "      <td>1.156751e+01</td>\n",
              "      <td>6.116607e+02</td>\n",
              "      <td>1.813569e+04</td>\n",
              "      <td>2.311241e+02</td>\n",
              "      <td>1.919733e+01</td>\n",
              "      <td>6.347899e+01</td>\n",
              "      <td>7.728840e+01</td>\n",
              "      <td>...</td>\n",
              "      <td>6.006745e+00</td>\n",
              "      <td>-3.080742e+03</td>\n",
              "      <td>9.153450e+04</td>\n",
              "      <td>4.616959e+04</td>\n",
              "      <td>1.719345e+05</td>\n",
              "      <td>6.543215e+04</td>\n",
              "      <td>9.332884e+06</td>\n",
              "      <td>5.655225e+05</td>\n",
              "      <td>9.759082e+06</td>\n",
              "      <td>8.888401e+06</td>\n",
              "    </tr>\n",
              "    <tr>\n",
              "      <th>std</th>\n",
              "      <td>1.902225e+04</td>\n",
              "      <td>3.522618e+07</td>\n",
              "      <td>7.942294e+02</td>\n",
              "      <td>1.056668e+03</td>\n",
              "      <td>1.058573e+04</td>\n",
              "      <td>2.397602e+06</td>\n",
              "      <td>7.562104e+02</td>\n",
              "      <td>6.079830e+01</td>\n",
              "      <td>1.955137e+02</td>\n",
              "      <td>2.968147e+02</td>\n",
              "      <td>...</td>\n",
              "      <td>6.742531e+02</td>\n",
              "      <td>1.149482e+06</td>\n",
              "      <td>6.864883e+05</td>\n",
              "      <td>4.164856e+05</td>\n",
              "      <td>1.085317e+06</td>\n",
              "      <td>6.110134e+05</td>\n",
              "      <td>2.484306e+07</td>\n",
              "      <td>4.873014e+06</td>\n",
              "      <td>2.561220e+07</td>\n",
              "      <td>2.457630e+07</td>\n",
              "    </tr>\n",
              "    <tr>\n",
              "      <th>min</th>\n",
              "      <td>0.000000e+00</td>\n",
              "      <td>-1.300000e+01</td>\n",
              "      <td>1.000000e+00</td>\n",
              "      <td>0.000000e+00</td>\n",
              "      <td>0.000000e+00</td>\n",
              "      <td>0.000000e+00</td>\n",
              "      <td>0.000000e+00</td>\n",
              "      <td>0.000000e+00</td>\n",
              "      <td>0.000000e+00</td>\n",
              "      <td>0.000000e+00</td>\n",
              "      <td>...</td>\n",
              "      <td>0.000000e+00</td>\n",
              "      <td>-5.368707e+08</td>\n",
              "      <td>0.000000e+00</td>\n",
              "      <td>0.000000e+00</td>\n",
              "      <td>0.000000e+00</td>\n",
              "      <td>0.000000e+00</td>\n",
              "      <td>0.000000e+00</td>\n",
              "      <td>0.000000e+00</td>\n",
              "      <td>0.000000e+00</td>\n",
              "      <td>0.000000e+00</td>\n",
              "    </tr>\n",
              "    <tr>\n",
              "      <th>25%</th>\n",
              "      <td>5.300000e+01</td>\n",
              "      <td>2.080000e+02</td>\n",
              "      <td>2.000000e+00</td>\n",
              "      <td>1.000000e+00</td>\n",
              "      <td>1.200000e+01</td>\n",
              "      <td>6.000000e+00</td>\n",
              "      <td>6.000000e+00</td>\n",
              "      <td>0.000000e+00</td>\n",
              "      <td>6.000000e+00</td>\n",
              "      <td>0.000000e+00</td>\n",
              "      <td>...</td>\n",
              "      <td>0.000000e+00</td>\n",
              "      <td>2.000000e+01</td>\n",
              "      <td>0.000000e+00</td>\n",
              "      <td>0.000000e+00</td>\n",
              "      <td>0.000000e+00</td>\n",
              "      <td>0.000000e+00</td>\n",
              "      <td>0.000000e+00</td>\n",
              "      <td>0.000000e+00</td>\n",
              "      <td>0.000000e+00</td>\n",
              "      <td>0.000000e+00</td>\n",
              "    </tr>\n",
              "    <tr>\n",
              "      <th>50%</th>\n",
              "      <td>8.000000e+01</td>\n",
              "      <td>5.058700e+04</td>\n",
              "      <td>2.000000e+00</td>\n",
              "      <td>2.000000e+00</td>\n",
              "      <td>6.600000e+01</td>\n",
              "      <td>1.560000e+02</td>\n",
              "      <td>4.000000e+01</td>\n",
              "      <td>2.000000e+00</td>\n",
              "      <td>3.613084e+01</td>\n",
              "      <td>0.000000e+00</td>\n",
              "      <td>...</td>\n",
              "      <td>1.000000e+00</td>\n",
              "      <td>2.000000e+01</td>\n",
              "      <td>0.000000e+00</td>\n",
              "      <td>0.000000e+00</td>\n",
              "      <td>0.000000e+00</td>\n",
              "      <td>0.000000e+00</td>\n",
              "      <td>0.000000e+00</td>\n",
              "      <td>0.000000e+00</td>\n",
              "      <td>0.000000e+00</td>\n",
              "      <td>0.000000e+00</td>\n",
              "    </tr>\n",
              "    <tr>\n",
              "      <th>75%</th>\n",
              "      <td>4.430000e+02</td>\n",
              "      <td>5.330376e+06</td>\n",
              "      <td>6.000000e+00</td>\n",
              "      <td>5.000000e+00</td>\n",
              "      <td>3.320000e+02</td>\n",
              "      <td>9.910000e+02</td>\n",
              "      <td>2.020000e+02</td>\n",
              "      <td>3.700000e+01</td>\n",
              "      <td>5.200000e+01</td>\n",
              "      <td>7.417179e+01</td>\n",
              "      <td>...</td>\n",
              "      <td>3.000000e+00</td>\n",
              "      <td>3.200000e+01</td>\n",
              "      <td>0.000000e+00</td>\n",
              "      <td>0.000000e+00</td>\n",
              "      <td>0.000000e+00</td>\n",
              "      <td>0.000000e+00</td>\n",
              "      <td>0.000000e+00</td>\n",
              "      <td>0.000000e+00</td>\n",
              "      <td>0.000000e+00</td>\n",
              "      <td>0.000000e+00</td>\n",
              "    </tr>\n",
              "    <tr>\n",
              "      <th>max</th>\n",
              "      <td>6.553500e+04</td>\n",
              "      <td>1.200000e+08</td>\n",
              "      <td>2.197590e+05</td>\n",
              "      <td>2.919220e+05</td>\n",
              "      <td>1.290000e+07</td>\n",
              "      <td>6.554530e+08</td>\n",
              "      <td>2.482000e+04</td>\n",
              "      <td>2.325000e+03</td>\n",
              "      <td>5.940857e+03</td>\n",
              "      <td>7.125597e+03</td>\n",
              "      <td>...</td>\n",
              "      <td>2.135570e+05</td>\n",
              "      <td>1.380000e+02</td>\n",
              "      <td>1.100000e+08</td>\n",
              "      <td>7.420000e+07</td>\n",
              "      <td>1.100000e+08</td>\n",
              "      <td>1.100000e+08</td>\n",
              "      <td>1.200000e+08</td>\n",
              "      <td>7.690000e+07</td>\n",
              "      <td>1.200000e+08</td>\n",
              "      <td>1.200000e+08</td>\n",
              "    </tr>\n",
              "  </tbody>\n",
              "</table>\n",
              "<p>8 rows × 78 columns</p>\n",
              "</div>\n",
              "    <div class=\"colab-df-buttons\">\n",
              "\n",
              "  <div class=\"colab-df-container\">\n",
              "    <button class=\"colab-df-convert\" onclick=\"convertToInteractive('df-35e9cecc-7873-4e66-bdb4-ac21c5a774d4')\"\n",
              "            title=\"Convert this dataframe to an interactive table.\"\n",
              "            style=\"display:none;\">\n",
              "\n",
              "  <svg xmlns=\"http://www.w3.org/2000/svg\" height=\"24px\" viewBox=\"0 -960 960 960\">\n",
              "    <path d=\"M120-120v-720h720v720H120Zm60-500h600v-160H180v160Zm220 220h160v-160H400v160Zm0 220h160v-160H400v160ZM180-400h160v-160H180v160Zm440 0h160v-160H620v160ZM180-180h160v-160H180v160Zm440 0h160v-160H620v160Z\"/>\n",
              "  </svg>\n",
              "    </button>\n",
              "\n",
              "  <style>\n",
              "    .colab-df-container {\n",
              "      display:flex;\n",
              "      gap: 12px;\n",
              "    }\n",
              "\n",
              "    .colab-df-convert {\n",
              "      background-color: #E8F0FE;\n",
              "      border: none;\n",
              "      border-radius: 50%;\n",
              "      cursor: pointer;\n",
              "      display: none;\n",
              "      fill: #1967D2;\n",
              "      height: 32px;\n",
              "      padding: 0 0 0 0;\n",
              "      width: 32px;\n",
              "    }\n",
              "\n",
              "    .colab-df-convert:hover {\n",
              "      background-color: #E2EBFA;\n",
              "      box-shadow: 0px 1px 2px rgba(60, 64, 67, 0.3), 0px 1px 3px 1px rgba(60, 64, 67, 0.15);\n",
              "      fill: #174EA6;\n",
              "    }\n",
              "\n",
              "    .colab-df-buttons div {\n",
              "      margin-bottom: 4px;\n",
              "    }\n",
              "\n",
              "    [theme=dark] .colab-df-convert {\n",
              "      background-color: #3B4455;\n",
              "      fill: #D2E3FC;\n",
              "    }\n",
              "\n",
              "    [theme=dark] .colab-df-convert:hover {\n",
              "      background-color: #434B5C;\n",
              "      box-shadow: 0px 1px 3px 1px rgba(0, 0, 0, 0.15);\n",
              "      filter: drop-shadow(0px 1px 2px rgba(0, 0, 0, 0.3));\n",
              "      fill: #FFFFFF;\n",
              "    }\n",
              "  </style>\n",
              "\n",
              "    <script>\n",
              "      const buttonEl =\n",
              "        document.querySelector('#df-35e9cecc-7873-4e66-bdb4-ac21c5a774d4 button.colab-df-convert');\n",
              "      buttonEl.style.display =\n",
              "        google.colab.kernel.accessAllowed ? 'block' : 'none';\n",
              "\n",
              "      async function convertToInteractive(key) {\n",
              "        const element = document.querySelector('#df-35e9cecc-7873-4e66-bdb4-ac21c5a774d4');\n",
              "        const dataTable =\n",
              "          await google.colab.kernel.invokeFunction('convertToInteractive',\n",
              "                                                    [key], {});\n",
              "        if (!dataTable) return;\n",
              "\n",
              "        const docLinkHtml = 'Like what you see? Visit the ' +\n",
              "          '<a target=\"_blank\" href=https://colab.research.google.com/notebooks/data_table.ipynb>data table notebook</a>'\n",
              "          + ' to learn more about interactive tables.';\n",
              "        element.innerHTML = '';\n",
              "        dataTable['output_type'] = 'display_data';\n",
              "        await google.colab.output.renderOutput(dataTable, element);\n",
              "        const docLink = document.createElement('div');\n",
              "        docLink.innerHTML = docLinkHtml;\n",
              "        element.appendChild(docLink);\n",
              "      }\n",
              "    </script>\n",
              "  </div>\n",
              "\n",
              "\n",
              "<div id=\"df-8d424128-c256-429d-952a-efc0ac9bce2f\">\n",
              "  <button class=\"colab-df-quickchart\" onclick=\"quickchart('df-8d424128-c256-429d-952a-efc0ac9bce2f')\"\n",
              "            title=\"Suggest charts\"\n",
              "            style=\"display:none;\">\n",
              "\n",
              "<svg xmlns=\"http://www.w3.org/2000/svg\" height=\"24px\"viewBox=\"0 0 24 24\"\n",
              "     width=\"24px\">\n",
              "    <g>\n",
              "        <path d=\"M19 3H5c-1.1 0-2 .9-2 2v14c0 1.1.9 2 2 2h14c1.1 0 2-.9 2-2V5c0-1.1-.9-2-2-2zM9 17H7v-7h2v7zm4 0h-2V7h2v10zm4 0h-2v-4h2v4z\"/>\n",
              "    </g>\n",
              "</svg>\n",
              "  </button>\n",
              "\n",
              "<style>\n",
              "  .colab-df-quickchart {\n",
              "      --bg-color: #E8F0FE;\n",
              "      --fill-color: #1967D2;\n",
              "      --hover-bg-color: #E2EBFA;\n",
              "      --hover-fill-color: #174EA6;\n",
              "      --disabled-fill-color: #AAA;\n",
              "      --disabled-bg-color: #DDD;\n",
              "  }\n",
              "\n",
              "  [theme=dark] .colab-df-quickchart {\n",
              "      --bg-color: #3B4455;\n",
              "      --fill-color: #D2E3FC;\n",
              "      --hover-bg-color: #434B5C;\n",
              "      --hover-fill-color: #FFFFFF;\n",
              "      --disabled-bg-color: #3B4455;\n",
              "      --disabled-fill-color: #666;\n",
              "  }\n",
              "\n",
              "  .colab-df-quickchart {\n",
              "    background-color: var(--bg-color);\n",
              "    border: none;\n",
              "    border-radius: 50%;\n",
              "    cursor: pointer;\n",
              "    display: none;\n",
              "    fill: var(--fill-color);\n",
              "    height: 32px;\n",
              "    padding: 0;\n",
              "    width: 32px;\n",
              "  }\n",
              "\n",
              "  .colab-df-quickchart:hover {\n",
              "    background-color: var(--hover-bg-color);\n",
              "    box-shadow: 0 1px 2px rgba(60, 64, 67, 0.3), 0 1px 3px 1px rgba(60, 64, 67, 0.15);\n",
              "    fill: var(--button-hover-fill-color);\n",
              "  }\n",
              "\n",
              "  .colab-df-quickchart-complete:disabled,\n",
              "  .colab-df-quickchart-complete:disabled:hover {\n",
              "    background-color: var(--disabled-bg-color);\n",
              "    fill: var(--disabled-fill-color);\n",
              "    box-shadow: none;\n",
              "  }\n",
              "\n",
              "  .colab-df-spinner {\n",
              "    border: 2px solid var(--fill-color);\n",
              "    border-color: transparent;\n",
              "    border-bottom-color: var(--fill-color);\n",
              "    animation:\n",
              "      spin 1s steps(1) infinite;\n",
              "  }\n",
              "\n",
              "  @keyframes spin {\n",
              "    0% {\n",
              "      border-color: transparent;\n",
              "      border-bottom-color: var(--fill-color);\n",
              "      border-left-color: var(--fill-color);\n",
              "    }\n",
              "    20% {\n",
              "      border-color: transparent;\n",
              "      border-left-color: var(--fill-color);\n",
              "      border-top-color: var(--fill-color);\n",
              "    }\n",
              "    30% {\n",
              "      border-color: transparent;\n",
              "      border-left-color: var(--fill-color);\n",
              "      border-top-color: var(--fill-color);\n",
              "      border-right-color: var(--fill-color);\n",
              "    }\n",
              "    40% {\n",
              "      border-color: transparent;\n",
              "      border-right-color: var(--fill-color);\n",
              "      border-top-color: var(--fill-color);\n",
              "    }\n",
              "    60% {\n",
              "      border-color: transparent;\n",
              "      border-right-color: var(--fill-color);\n",
              "    }\n",
              "    80% {\n",
              "      border-color: transparent;\n",
              "      border-right-color: var(--fill-color);\n",
              "      border-bottom-color: var(--fill-color);\n",
              "    }\n",
              "    90% {\n",
              "      border-color: transparent;\n",
              "      border-bottom-color: var(--fill-color);\n",
              "    }\n",
              "  }\n",
              "</style>\n",
              "\n",
              "  <script>\n",
              "    async function quickchart(key) {\n",
              "      const quickchartButtonEl =\n",
              "        document.querySelector('#' + key + ' button');\n",
              "      quickchartButtonEl.disabled = true;  // To prevent multiple clicks.\n",
              "      quickchartButtonEl.classList.add('colab-df-spinner');\n",
              "      try {\n",
              "        const charts = await google.colab.kernel.invokeFunction(\n",
              "            'suggestCharts', [key], {});\n",
              "      } catch (error) {\n",
              "        console.error('Error during call to suggestCharts:', error);\n",
              "      }\n",
              "      quickchartButtonEl.classList.remove('colab-df-spinner');\n",
              "      quickchartButtonEl.classList.add('colab-df-quickchart-complete');\n",
              "    }\n",
              "    (() => {\n",
              "      let quickchartButtonEl =\n",
              "        document.querySelector('#df-8d424128-c256-429d-952a-efc0ac9bce2f button');\n",
              "      quickchartButtonEl.style.display =\n",
              "        google.colab.kernel.accessAllowed ? 'block' : 'none';\n",
              "    })();\n",
              "  </script>\n",
              "</div>\n",
              "\n",
              "    </div>\n",
              "  </div>\n"
            ],
            "application/vnd.google.colaboratory.intrinsic+json": {
              "type": "dataframe"
            }
          },
          "metadata": {},
          "execution_count": 80
        }
      ]
    },
    {
      "cell_type": "markdown",
      "metadata": {
        "id": "dBSel8WouIw_"
      },
      "source": [
        "# Dividindo dados nos conjuntos de treino e teste"
      ]
    },
    {
      "cell_type": "code",
      "execution_count": null,
      "metadata": {
        "id": "uI9aRuHROEjH"
      },
      "outputs": [],
      "source": [
        "X_train, X_test, classes_train, classes_test = train_test_split(dataset.drop('Label', axis='columns'), dataset['Label'], test_size = 0.4, stratify=dataset['Label'], random_state=RANDOM_SEED)\n",
        "\n",
        "X_train, X_test = X_train.reset_index(drop=True), X_test.reset_index(drop=True)\n",
        "Y_train, Y_test = classes_train.reset_index(drop=True), classes_test.reset_index(drop=True)\n",
        "\n",
        "Y_train, Y_test = classes_train.apply(lambda c: 0 if c == 'BENIGN' else 1), classes_test.apply(lambda c: 0 if c == 'BENIGN' else 1)"
      ]
    },
    {
      "cell_type": "markdown",
      "metadata": {
        "id": "nrKKFKiM28S2"
      },
      "source": [
        "# Analisando correlação entre features"
      ]
    },
    {
      "cell_type": "markdown",
      "metadata": {
        "id": "-V25pTEPoVFF"
      },
      "source": [
        "Vamos descartar features com alta correlação evitando passar informações redundantes ao modelo. Dessa forma, conseguiremos obter um modelo mais simples e com menor custo computacional."
      ]
    },
    {
      "cell_type": "code",
      "execution_count": null,
      "metadata": {
        "id": "nH8iWIvI8vwu"
      },
      "outputs": [],
      "source": [
        "def get_highly_correlated_features(correlation_matrix, threshold):\n",
        "  correlated_pairs = []\n",
        "  for i in range(len(correlation_matrix.columns)):\n",
        "    for j in range(i):\n",
        "      if abs(correlation_matrix.iloc[i, j]) > threshold:\n",
        "        pair = (correlation_matrix.columns[i], correlation_matrix.columns[j])\n",
        "        coefficient = correlation_matrix.iloc[i, j]\n",
        "        correlated_pairs.append((pair, coefficient))\n",
        "  return sorted(correlated_pairs, key= lambda pair: pair[1], reverse=True)\n"
      ]
    },
    {
      "cell_type": "code",
      "execution_count": null,
      "metadata": {
        "id": "lYL301wA8msm"
      },
      "outputs": [],
      "source": [
        "corr_matrix = X_train.corr().abs()\n",
        "correlation_list = get_highly_correlated_features(corr_matrix, 0.95)"
      ]
    },
    {
      "cell_type": "code",
      "execution_count": null,
      "metadata": {
        "id": "k6cC1a08B4Eh",
        "colab": {
          "base_uri": "https://localhost:8080/"
        },
        "outputId": "5e4e1545-eb79-478c-ba14-70dfae24813d"
      },
      "outputs": [
        {
          "output_type": "execute_result",
          "data": {
            "text/plain": [
              "[(('Avg Bwd Segment Size', 'Bwd Packet Length Mean'), 1.0000000000000002),\n",
              " (('SYN Flag Count', 'Fwd PSH Flags'), 1.0),\n",
              " (('CWE Flag Count', 'Fwd URG Flags'), 1.0),\n",
              " (('Avg Fwd Segment Size', 'Fwd Packet Length Mean'), 1.0),\n",
              " (('Fwd Header Length.1', 'Fwd Header Length'), 1.0),\n",
              " (('Subflow Fwd Packets', 'Total Fwd Packets'), 1.0),\n",
              " (('Subflow Bwd Packets', 'Total Backward Packets'), 1.0),\n",
              " (('Subflow Bwd Bytes', 'Total Length of Bwd Packets'), 0.9999998468295407),\n",
              " (('Subflow Fwd Bytes', 'Total Length of Fwd Packets'), 0.9999994246229554),\n",
              " (('Total Backward Packets', 'Total Fwd Packets'), 0.9992493903216018)]"
            ]
          },
          "metadata": {},
          "execution_count": 84
        }
      ],
      "source": [
        "correlation_list[:10]"
      ]
    },
    {
      "cell_type": "code",
      "execution_count": null,
      "metadata": {
        "id": "PMe5PnY0-ACu"
      },
      "outputs": [],
      "source": [
        "f2drop = []\n",
        "for feature_pair, _ in correlation_list:\n",
        "  if feature_pair[0] not in f2drop and feature_pair[1] not in f2drop:\n",
        "    f2drop.append(feature_pair[1])"
      ]
    },
    {
      "cell_type": "code",
      "execution_count": null,
      "metadata": {
        "id": "RKzy0I0iDgE8",
        "colab": {
          "base_uri": "https://localhost:8080/"
        },
        "outputId": "454f9d34-c697-4232-d6e4-156251f70eba"
      },
      "outputs": [
        {
          "output_type": "execute_result",
          "data": {
            "text/plain": [
              "['Bwd Packet Length Mean',\n",
              " 'Fwd PSH Flags',\n",
              " 'Fwd URG Flags',\n",
              " 'Fwd Packet Length Mean',\n",
              " 'Fwd Header Length',\n",
              " 'Total Fwd Packets',\n",
              " 'Total Backward Packets',\n",
              " 'Total Length of Bwd Packets',\n",
              " 'Total Length of Fwd Packets',\n",
              " 'Subflow Fwd Packets',\n",
              " 'Flow Duration',\n",
              " 'Flow IAT Max',\n",
              " 'Packet Length Mean',\n",
              " 'RST Flag Count',\n",
              " 'Subflow Bwd Packets',\n",
              " 'Idle Mean',\n",
              " 'Fwd IAT Max',\n",
              " 'Max Packet Length',\n",
              " 'Bwd Packet Length Max',\n",
              " 'Fwd Packet Length Max',\n",
              " 'Idle Max']"
            ]
          },
          "metadata": {},
          "execution_count": 86
        }
      ],
      "source": [
        "f2drop"
      ]
    },
    {
      "cell_type": "markdown",
      "metadata": {
        "id": "czgiFCHwppTO"
      },
      "source": [
        "A feature \"Destination Port\", também não fornece muita contribuição já que a mesma está codificada com valores inteiros, indicando uma relação de grandeza, como 44720 > 80, que não apresenta sentido semântico quando se trata da porta de destino de um fluxo de rede, por isso vamos removê-la também."
      ]
    },
    {
      "cell_type": "code",
      "execution_count": null,
      "metadata": {
        "id": "GI1Njd7Sd0zo"
      },
      "outputs": [],
      "source": [
        "f2drop = f2drop + ['Destination Port']"
      ]
    },
    {
      "cell_type": "code",
      "execution_count": null,
      "metadata": {
        "id": "ZqW_NURpDqwy"
      },
      "outputs": [],
      "source": [
        "X_train = X_train.drop(f2drop, axis='columns')\n",
        "X_test = X_test.drop(f2drop, axis='columns')"
      ]
    },
    {
      "cell_type": "markdown",
      "metadata": {
        "id": "W0RcHdTfegSU"
      },
      "source": [
        "# Normalizando os dados"
      ]
    },
    {
      "cell_type": "markdown",
      "metadata": {
        "id": "29Tl1aiBqUpP"
      },
      "source": [
        "É importante normalizar os dados para lidar com diferentes escalas, sensibilidades a escalas e até mesmo melhorar o desempenho da convergência dos algoritmos."
      ]
    },
    {
      "cell_type": "code",
      "execution_count": null,
      "metadata": {
        "id": "AgqH-xSneE_1"
      },
      "outputs": [],
      "source": [
        "std_scaler = StandardScaler()\n",
        "std_scaler = std_scaler.fit(X_train)\n",
        "\n",
        "norm_X_train = std_scaler.transform(X_train)\n",
        "norm_X_test = std_scaler.transform(X_test)"
      ]
    },
    {
      "cell_type": "code",
      "execution_count": null,
      "metadata": {
        "id": "chbylf5G05mj"
      },
      "outputs": [],
      "source": [
        "del X_train, X_test"
      ]
    },
    {
      "cell_type": "markdown",
      "source": [
        "## Métricas"
      ],
      "metadata": {
        "id": "3J_EzAC2GK68"
      }
    },
    {
      "cell_type": "code",
      "execution_count": null,
      "metadata": {
        "id": "2NE6rTsK0vg9"
      },
      "outputs": [],
      "source": [
        "def plot_roc_curve(y_true, y_score, max_fpr=1.0):\n",
        "  fpr, tpr, thresholds = roc_curve(y_true, y_score)\n",
        "  aucroc = roc_auc_score(y_true, y_score)\n",
        "  plt.plot(100*fpr[fpr < max_fpr], 100*tpr[fpr < max_fpr], label=f'ROC Curve (AUC = {aucroc:.4f})')\n",
        "  plt.xlim(-2,102)\n",
        "  plt.xlabel('FPR (%)')\n",
        "  plt.ylabel('TPR (%)')\n",
        "  plt.legend()\n",
        "  plt.title('ROC Curve and AUCROC')"
      ]
    },
    {
      "cell_type": "code",
      "execution_count": null,
      "metadata": {
        "id": "UBeDUDwU3gp4"
      },
      "outputs": [],
      "source": [
        "def get_tpr_per_attack(y_labels, y_pred):\n",
        "  aux_dataset = pd.DataFrame({'Label':y_labels,'prediction':y_pred})\n",
        "  total_per_label = aux_dataset['Label'].value_counts().to_dict()\n",
        "  correct_predictions_per_label = aux_dataset.query('Label != \"BENIGN\" and prediction == True').groupby('Label').size().to_dict()\n",
        "  tpr_per_attack = {}\n",
        "  for attack_label, total in total_per_label.items():\n",
        "    if attack_label == 'BENIGN':\n",
        "      continue\n",
        "    tp = correct_predictions_per_label[attack_label] if attack_label in correct_predictions_per_label else 0\n",
        "    tpr = tp/total\n",
        "    tpr_per_attack[attack_label] = tpr\n",
        "  return tpr_per_attack"
      ]
    },
    {
      "cell_type": "code",
      "execution_count": null,
      "metadata": {
        "id": "dX9dJWs3_6Vi"
      },
      "outputs": [],
      "source": [
        "def get_overall_metrics(y_true, y_pred):\n",
        "  tn, fp, fn, tp = confusion_matrix(y_true, y_pred).ravel()\n",
        "  acc = (tp+tn)/(tp+tn+fp+fn)\n",
        "  tpr = tp/(tp+fn)\n",
        "  fpr = fp/(fp+tn)\n",
        "  precision = tp/(tp+fp)\n",
        "  f1 = (2*tpr*precision)/(tpr+precision)\n",
        "  return {'acc':acc,'tpr':tpr,'fpr':fpr,'precision':precision,'f1-score':f1}"
      ]
    },
    {
      "cell_type": "code",
      "execution_count": null,
      "metadata": {
        "id": "A196OkMmC_bI"
      },
      "outputs": [],
      "source": [
        "def plot_confusion_matrix(y_true, y_pred):\n",
        "  cm = confusion_matrix(y_true, y_pred)\n",
        "  group_counts = [f'{value:.0f}' for value in confusion_matrix(y_true, y_pred).ravel()]\n",
        "  group_percentages = [f'{value*100:.2f}%' for value in confusion_matrix(y_true, y_pred).ravel()/np.sum(cm)]\n",
        "  labels = [f'{v1}\\n{v2}' for v1, v2 in zip(group_counts, group_percentages)]\n",
        "  labels = np.array(labels).reshape(2,2)\n",
        "  sns.heatmap(cm, annot=labels, cmap='Oranges', xticklabels=['Predicted Benign', 'Predicted Malicious'], yticklabels=['Actual Benign', 'Actual Malicious'], fmt='')\n",
        "  return"
      ]
    },
    {
      "cell_type": "markdown",
      "metadata": {
        "id": "yAlL-F5NnxGg"
      },
      "source": [
        "# Detecção de Anomalias com o GaussianNB\n",
        "\n",
        "---\n",
        "\n"
      ]
    },
    {
      "cell_type": "code",
      "source": [
        "#Treinar o Modelo\n",
        "modelGaussian = GaussianNB()\n",
        "y_pred_Gaussian = modelGaussian.fit(norm_X_train, Y_train)\n"
      ],
      "metadata": {
        "id": "-KC309-y5OhD"
      },
      "execution_count": null,
      "outputs": []
    },
    {
      "cell_type": "code",
      "source": [
        "#Fazer previsão com o modelo treinado\n",
        "predictionsGaussian = modelGaussian.predict(norm_X_test)\n",
        "print(\"Número de pontos rotulados incorretamente de um total de %d pontos: %d\" % (norm_X_test.shape[0], (Y_test != predictionsGaussian).sum()))"
      ],
      "metadata": {
        "colab": {
          "base_uri": "https://localhost:8080/"
        },
        "id": "D_uDesSW5Sgf",
        "outputId": "58ebf2fc-c5d4-4f44-dfc1-8eb59d18f3e4"
      },
      "execution_count": null,
      "outputs": [
        {
          "output_type": "stream",
          "name": "stdout",
          "text": [
            "Número de pontos rotulados incorretamente de um total de 1008804 pontos: 546185\n"
          ]
        }
      ]
    },
    {
      "cell_type": "code",
      "source": [
        "#Avaliar o modelo\n",
        "print(\"Classification Report:\\n\", classification_report(Y_test, predictionsGaussian))"
      ],
      "metadata": {
        "colab": {
          "base_uri": "https://localhost:8080/"
        },
        "id": "_UN5NoFf5bCW",
        "outputId": "3435235d-6f4f-4e94-ba0e-5346f30d03d3"
      },
      "execution_count": null,
      "outputs": [
        {
          "output_type": "stream",
          "name": "stdout",
          "text": [
            "Classification Report:\n",
            "               precision    recall  f1-score   support\n",
            "\n",
            "           0       0.99      0.35      0.52    838454\n",
            "           1       0.24      0.98      0.38    170350\n",
            "\n",
            "    accuracy                           0.46   1008804\n",
            "   macro avg       0.61      0.67      0.45   1008804\n",
            "weighted avg       0.86      0.46      0.50   1008804\n",
            "\n"
          ]
        }
      ]
    },
    {
      "cell_type": "code",
      "execution_count": null,
      "metadata": {
        "id": "rvsHNCaUCGR0",
        "colab": {
          "base_uri": "https://localhost:8080/"
        },
        "outputId": "bdcdce6d-4282-4cf2-ecc2-1a2e298af38f"
      },
      "outputs": [
        {
          "output_type": "execute_result",
          "data": {
            "text/plain": [
              "{'acc': 0.45858164717824274,\n",
              " 'tpr': 0.9817728206633402,\n",
              " 'fpr': 0.6477159152440086,\n",
              " 'precision': 0.23544856227783056,\n",
              " 'f1-score': 0.3798109404717972}"
            ]
          },
          "metadata": {},
          "execution_count": 98
        }
      ],
      "source": [
        "get_overall_metrics(Y_test, predictionsGaussian)"
      ]
    },
    {
      "cell_type": "code",
      "execution_count": null,
      "metadata": {
        "id": "79Y707ogCNWO",
        "colab": {
          "base_uri": "https://localhost:8080/"
        },
        "outputId": "a1dd955c-39ed-4fe0-9f8f-6d2342d4c466"
      },
      "outputs": [
        {
          "output_type": "execute_result",
          "data": {
            "text/plain": [
              "{'DoS Hulk': 0.9975845759990744,\n",
              " 'DDoS': 0.9994531997578456,\n",
              " 'PortScan': 0.9801255230125523,\n",
              " 'DoS GoldenEye': 0.9927078269324259,\n",
              " 'FTP-Patator': 0.9957859249894648,\n",
              " 'DoS slowloris': 0.765552460538533,\n",
              " 'DoS Slowhttptest': 0.8067910090865614,\n",
              " 'SSH-Patator': 0.9262422360248447,\n",
              " 'Bot': 0.5902688860435339,\n",
              " 'Brute Force': 0.05272108843537415,\n",
              " 'XSS': 0.03065134099616858,\n",
              " 'Infiltration': 0.5714285714285714,\n",
              " 'Sql Injection': 0.5,\n",
              " 'Heartbleed': 0.0}"
            ]
          },
          "metadata": {},
          "execution_count": 99
        }
      ],
      "source": [
        "get_tpr_per_attack(classes_test, predictionsGaussian)"
      ]
    },
    {
      "cell_type": "code",
      "execution_count": null,
      "metadata": {
        "id": "VS4vFyq2BNWA",
        "colab": {
          "base_uri": "https://localhost:8080/",
          "height": 434
        },
        "outputId": "ade222ae-0038-455d-b56d-6a0921a74586"
      },
      "outputs": [
        {
          "output_type": "display_data",
          "data": {
            "text/plain": [
              "<Figure size 640x480 with 2 Axes>"
            ],
            "image/png": "[encoded data removed]"
          },
          "metadata": {}
        }
      ],
      "source": [
        "plot_confusion_matrix(Y_test, predictionsGaussian)"
      ]
    },
    {
      "cell_type": "code",
      "execution_count": null,
      "metadata": {
        "id": "confJlhE2vlm",
        "colab": {
          "base_uri": "https://localhost:8080/",
          "height": 480
        },
        "outputId": "da424159-faca-4a62-de93-44ea4b474373"
      },
      "outputs": [
        {
          "output_type": "display_data",
          "data": {
            "text/plain": [
              "<Figure size 640x480 with 1 Axes>"
            ],
            "image/png": "[encoded data removed]"
          },
          "metadata": {}
        }
      ],
      "source": [
        "plot_roc_curve(Y_test, predictionsGaussian)"
      ]
    },
    {
      "cell_type": "markdown",
      "metadata": {
        "id": "_4vBe_MnGtjD"
      },
      "source": [
        "# Detecção de Anomalias com o BernoulliNB\n",
        "\n",
        "---\n",
        "\n"
      ]
    },
    {
      "cell_type": "code",
      "source": [
        "#Treinar o Modelo\n",
        "modelBernoulli = BernoulliNB()\n",
        "y_pred_Bernoulli = modelBernoulli.fit(norm_X_train, Y_train)\n"
      ],
      "metadata": {
        "id": "J_3XfNd-GtjF"
      },
      "execution_count": null,
      "outputs": []
    },
    {
      "cell_type": "code",
      "source": [
        "#Fazer previsão com o modelo treinado\n",
        "predictionsBernoulli = modelBernoulli.predict(norm_X_test)\n",
        "print(\"Número de pontos rotulados incorretamente de um total de %d pontos: %d\" % (norm_X_test.shape[0], (Y_test != predictionsBernoulli).sum()))"
      ],
      "metadata": {
        "colab": {
          "base_uri": "https://localhost:8080/"
        },
        "outputId": "73789ff8-f219-4024-8502-e36bfda87ece",
        "id": "Jkbtipo6GtjF"
      },
      "execution_count": null,
      "outputs": [
        {
          "output_type": "stream",
          "name": "stdout",
          "text": [
            "Número de pontos rotulados incorretamente de um total de 1008804 pontos: 183759\n"
          ]
        }
      ]
    },
    {
      "cell_type": "code",
      "source": [
        "#Avaliar o modelo\n",
        "print(\"Classification Report:\\n\", classification_report(Y_test, predictionsBernoulli))"
      ],
      "metadata": {
        "colab": {
          "base_uri": "https://localhost:8080/"
        },
        "outputId": "e2a05607-b98e-4bb7-e4b7-a6758c7d26f8",
        "id": "BmxLKylUGtjG"
      },
      "execution_count": null,
      "outputs": [
        {
          "output_type": "stream",
          "name": "stdout",
          "text": [
            "Classification Report:\n",
            "               precision    recall  f1-score   support\n",
            "\n",
            "           0       0.92      0.85      0.89    838454\n",
            "           1       0.47      0.64      0.54    170350\n",
            "\n",
            "    accuracy                           0.82   1008804\n",
            "   macro avg       0.70      0.75      0.71   1008804\n",
            "weighted avg       0.84      0.82      0.83   1008804\n",
            "\n"
          ]
        }
      ]
    },
    {
      "cell_type": "code",
      "execution_count": null,
      "metadata": {
        "colab": {
          "base_uri": "https://localhost:8080/"
        },
        "outputId": "b3a51244-6419-4ff2-88f4-db1adab628c9",
        "id": "z-OLQFQfGtjG"
      },
      "outputs": [
        {
          "output_type": "execute_result",
          "data": {
            "text/plain": [
              "{'acc': 0.8178446953025563,\n",
              " 'tpr': 0.636278250660405,\n",
              " 'fpr': 0.14526616844812,\n",
              " 'precision': 0.4708739340281247,\n",
              " 'f1-score': 0.5412207050998779}"
            ]
          },
          "metadata": {},
          "execution_count": 105
        }
      ],
      "source": [
        "get_overall_metrics(Y_test, predictionsBernoulli)"
      ]
    },
    {
      "cell_type": "code",
      "execution_count": null,
      "metadata": {
        "colab": {
          "base_uri": "https://localhost:8080/"
        },
        "outputId": "eed2f258-8649-4712-9002-8513cfd324e3",
        "id": "XMwklwaBGtjH"
      },
      "outputs": [
        {
          "output_type": "execute_result",
          "data": {
            "text/plain": [
              "{'DoS Hulk': 0.8989137823804221,\n",
              " 'DDoS': 0.7909856074364833,\n",
              " 'PortScan': 0.0033032371724289805,\n",
              " 'DoS GoldenEye': 0.9467671366067087,\n",
              " 'FTP-Patator': 0.0,\n",
              " 'DoS slowloris': 0.04503249767873723,\n",
              " 'DoS Slowhttptest': 0.7685318029650885,\n",
              " 'SSH-Patator': 0.0,\n",
              " 'Bot': 0.002560819462227913,\n",
              " 'Brute Force': 0.003401360544217687,\n",
              " 'XSS': 0.022988505747126436,\n",
              " 'Infiltration': 0.07142857142857142,\n",
              " 'Sql Injection': 0.375,\n",
              " 'Heartbleed': 0.75}"
            ]
          },
          "metadata": {},
          "execution_count": 106
        }
      ],
      "source": [
        "get_tpr_per_attack(classes_test, predictionsBernoulli)"
      ]
    },
    {
      "cell_type": "code",
      "execution_count": null,
      "metadata": {
        "colab": {
          "base_uri": "https://localhost:8080/",
          "height": 434
        },
        "outputId": "c7c1d8ac-0fc4-4cda-bcdb-fc4e222098c7",
        "id": "IuK9il-xGtjH"
      },
      "outputs": [
        {
          "output_type": "display_data",
          "data": {
            "text/plain": [
              "<Figure size 640x480 with 2 Axes>"
            ],
            "image/png": "[encoded data removed]"
          },
          "metadata": {}
        }
      ],
      "source": [
        "plot_confusion_matrix(Y_test, predictionsBernoulli)"
      ]
    },
    {
      "cell_type": "code",
      "execution_count": null,
      "metadata": {
        "colab": {
          "base_uri": "https://localhost:8080/",
          "height": 480
        },
        "outputId": "a1550724-6a51-446e-cb42-b90f6bcd5b72",
        "id": "AMPY4bgRGtjH"
      },
      "outputs": [
        {
          "output_type": "display_data",
          "data": {
            "text/plain": [
              "<Figure size 640x480 with 1 Axes>"
            ],
            "image/png": "[encoded data removed]"
          },
          "metadata": {}
        }
      ],
      "source": [
        "plot_roc_curve(Y_test, predictionsBernoulli)"
      ]
    },
    {
      "cell_type": "markdown",
      "source": [
        "Não treinamos através de MultinomialNB, ComplementNB, CategorialNB porque esses modelos só aceitam valores não-negativos."
      ],
      "metadata": {
        "id": "10ouYf8fIQ0T"
      }
    }
  ]
}